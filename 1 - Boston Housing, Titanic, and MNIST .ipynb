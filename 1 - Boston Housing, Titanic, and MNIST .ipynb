{
 "cells": [
  {
   "cell_type": "markdown",
   "metadata": {},
   "source": [
    "# Practical Machine Learning Assignment #1"
   ]
  },
  {
   "cell_type": "markdown",
   "metadata": {},
   "source": [
    "##### Importing libraries"
   ]
  },
  {
   "cell_type": "code",
   "execution_count": 1,
   "metadata": {},
   "outputs": [],
   "source": [
    "import numpy as np\n",
    "import pandas as pd\n",
    "import matplotlib.pyplot as plt\n",
    "%matplotlib inline\n",
    "import seaborn as sns; sns.set()\n",
    "from tensorflow.keras.layers import Dense, Dropout, Flatten\n",
    "from tensorflow.keras.models import Sequential\n",
    "from tensorflow.keras.callbacks import EarlyStopping\n",
    "from sklearn.model_selection import train_test_split, GridSearchCV, RandomizedSearchCV\n",
    "from sklearn.linear_model import LinearRegression, Ridge, Lasso, LogisticRegression\n",
    "from sklearn.svm import SVC\n",
    "from sklearn.metrics import mean_absolute_error, confusion_matrix, accuracy_score\n",
    "from sklearn.tree import DecisionTreeRegressor\n",
    "from tensorflow.keras.callbacks import EarlyStopping\n",
    "from tensorflow.keras.utils import to_categorical\n",
    "from sklearn.preprocessing import MinMaxScaler"
   ]
  },
  {
   "cell_type": "markdown",
   "metadata": {},
   "source": [
    "## Boston Housing Dataset - Predicting the Price"
   ]
  },
  {
   "cell_type": "markdown",
   "metadata": {},
   "source": [
    "##### Loading the data"
   ]
  },
  {
   "cell_type": "code",
   "execution_count": 2,
   "metadata": {},
   "outputs": [],
   "source": [
    "url = 'https://storage.googleapis.com/nicksdemobucket/housing-data.csv'"
   ]
  },
  {
   "cell_type": "code",
   "execution_count": 3,
   "metadata": {
    "scrolled": true
   },
   "outputs": [],
   "source": [
    "boston = pd.read_csv(url)"
   ]
  },
  {
   "cell_type": "markdown",
   "metadata": {},
   "source": [
    "##### Getting a feel of the data"
   ]
  },
  {
   "cell_type": "code",
   "execution_count": 4,
   "metadata": {},
   "outputs": [
    {
     "name": "stdout",
     "output_type": "stream",
     "text": [
      "<class 'pandas.core.frame.DataFrame'>\n",
      "RangeIndex: 47 entries, 0 to 46\n",
      "Data columns (total 4 columns):\n",
      "sqft     47 non-null int64\n",
      "bdrms    47 non-null int64\n",
      "age      47 non-null int64\n",
      "price    47 non-null int64\n",
      "dtypes: int64(4)\n",
      "memory usage: 1.5 KB\n"
     ]
    }
   ],
   "source": [
    "boston.info()"
   ]
  },
  {
   "cell_type": "markdown",
   "metadata": {},
   "source": [
    "The dataset is only 47 observations, and 4 columns (`sqft`, `bdrms`, `age`, and the target variable `price`). All columns contain only integer values (no string values), and no values are missing."
   ]
  },
  {
   "cell_type": "code",
   "execution_count": 5,
   "metadata": {
    "scrolled": true
   },
   "outputs": [
    {
     "data": {
      "text/html": [
       "<div>\n",
       "<style scoped>\n",
       "    .dataframe tbody tr th:only-of-type {\n",
       "        vertical-align: middle;\n",
       "    }\n",
       "\n",
       "    .dataframe tbody tr th {\n",
       "        vertical-align: top;\n",
       "    }\n",
       "\n",
       "    .dataframe thead th {\n",
       "        text-align: right;\n",
       "    }\n",
       "</style>\n",
       "<table border=\"1\" class=\"dataframe\">\n",
       "  <thead>\n",
       "    <tr style=\"text-align: right;\">\n",
       "      <th></th>\n",
       "      <th>sqft</th>\n",
       "      <th>bdrms</th>\n",
       "      <th>age</th>\n",
       "      <th>price</th>\n",
       "    </tr>\n",
       "  </thead>\n",
       "  <tbody>\n",
       "    <tr>\n",
       "      <th>0</th>\n",
       "      <td>2104</td>\n",
       "      <td>3</td>\n",
       "      <td>70</td>\n",
       "      <td>399900</td>\n",
       "    </tr>\n",
       "    <tr>\n",
       "      <th>1</th>\n",
       "      <td>1600</td>\n",
       "      <td>3</td>\n",
       "      <td>28</td>\n",
       "      <td>329900</td>\n",
       "    </tr>\n",
       "    <tr>\n",
       "      <th>2</th>\n",
       "      <td>2400</td>\n",
       "      <td>3</td>\n",
       "      <td>44</td>\n",
       "      <td>369000</td>\n",
       "    </tr>\n",
       "    <tr>\n",
       "      <th>3</th>\n",
       "      <td>1416</td>\n",
       "      <td>2</td>\n",
       "      <td>49</td>\n",
       "      <td>232000</td>\n",
       "    </tr>\n",
       "    <tr>\n",
       "      <th>4</th>\n",
       "      <td>3000</td>\n",
       "      <td>4</td>\n",
       "      <td>75</td>\n",
       "      <td>539900</td>\n",
       "    </tr>\n",
       "  </tbody>\n",
       "</table>\n",
       "</div>"
      ],
      "text/plain": [
       "   sqft  bdrms  age   price\n",
       "0  2104      3   70  399900\n",
       "1  1600      3   28  329900\n",
       "2  2400      3   44  369000\n",
       "3  1416      2   49  232000\n",
       "4  3000      4   75  539900"
      ]
     },
     "execution_count": 5,
     "metadata": {},
     "output_type": "execute_result"
    }
   ],
   "source": [
    "boston.head()"
   ]
  },
  {
   "cell_type": "code",
   "execution_count": 6,
   "metadata": {},
   "outputs": [
    {
     "name": "stderr",
     "output_type": "stream",
     "text": [
      "C:\\Users\\Nicolas\\Miniconda3\\envs\\tfenv\\lib\\site-packages\\numpy\\core\\_methods.py:140: RuntimeWarning: Degrees of freedom <= 0 for slice\n",
      "  keepdims=keepdims)\n",
      "C:\\Users\\Nicolas\\Miniconda3\\envs\\tfenv\\lib\\site-packages\\numpy\\core\\_methods.py:132: RuntimeWarning: invalid value encountered in double_scalars\n",
      "  ret = ret.dtype.type(ret / rcount)\n",
      "C:\\Users\\Nicolas\\Miniconda3\\envs\\tfenv\\lib\\site-packages\\statsmodels\\nonparametric\\kde.py:488: RuntimeWarning: invalid value encountered in true_divide\n",
      "  binned = fast_linbin(X, a, b, gridsize) / (delta * nobs)\n",
      "C:\\Users\\Nicolas\\Miniconda3\\envs\\tfenv\\lib\\site-packages\\statsmodels\\nonparametric\\kdetools.py:34: RuntimeWarning: invalid value encountered in double_scalars\n",
      "  FAC1 = 2*(np.pi*bw/RANGE)**2\n"
     ]
    },
    {
     "data": {
      "text/plain": [
       "<seaborn.axisgrid.PairGrid at 0x2beb00ce160>"
      ]
     },
     "execution_count": 6,
     "metadata": {},
     "output_type": "execute_result"
    },
    {
     "data": {
      "image/png": "[encoded data removed]",
      "text/plain": [
       "<Figure size 765.85x720 with 20 Axes>"
      ]
     },
     "metadata": {
      "needs_background": "light"
     },
     "output_type": "display_data"
    }
   ],
   "source": [
    "sns.pairplot(boston, hue='bdrms')"
   ]
  },
  {
   "cell_type": "markdown",
   "metadata": {},
   "source": [
    "We can see that `price` seems correlated with `sqft` and `bdrms`, and has a right-side skew."
   ]
  },
  {
   "cell_type": "code",
   "execution_count": 7,
   "metadata": {
    "scrolled": true
   },
   "outputs": [
    {
     "data": {
      "text/html": [
       "<div>\n",
       "<style scoped>\n",
       "    .dataframe tbody tr th:only-of-type {\n",
       "        vertical-align: middle;\n",
       "    }\n",
       "\n",
       "    .dataframe tbody tr th {\n",
       "        vertical-align: top;\n",
       "    }\n",
       "\n",
       "    .dataframe thead th {\n",
       "        text-align: right;\n",
       "    }\n",
       "</style>\n",
       "<table border=\"1\" class=\"dataframe\">\n",
       "  <thead>\n",
       "    <tr style=\"text-align: right;\">\n",
       "      <th></th>\n",
       "      <th>sqft</th>\n",
       "      <th>bdrms</th>\n",
       "      <th>age</th>\n",
       "      <th>price</th>\n",
       "    </tr>\n",
       "  </thead>\n",
       "  <tbody>\n",
       "    <tr>\n",
       "      <th>sqft</th>\n",
       "      <td>1.000000</td>\n",
       "      <td>0.559967</td>\n",
       "      <td>0.079853</td>\n",
       "      <td>0.854988</td>\n",
       "    </tr>\n",
       "    <tr>\n",
       "      <th>bdrms</th>\n",
       "      <td>0.559967</td>\n",
       "      <td>1.000000</td>\n",
       "      <td>0.077486</td>\n",
       "      <td>0.442261</td>\n",
       "    </tr>\n",
       "    <tr>\n",
       "      <th>age</th>\n",
       "      <td>0.079853</td>\n",
       "      <td>0.077486</td>\n",
       "      <td>1.000000</td>\n",
       "      <td>0.051791</td>\n",
       "    </tr>\n",
       "    <tr>\n",
       "      <th>price</th>\n",
       "      <td>0.854988</td>\n",
       "      <td>0.442261</td>\n",
       "      <td>0.051791</td>\n",
       "      <td>1.000000</td>\n",
       "    </tr>\n",
       "  </tbody>\n",
       "</table>\n",
       "</div>"
      ],
      "text/plain": [
       "           sqft     bdrms       age     price\n",
       "sqft   1.000000  0.559967  0.079853  0.854988\n",
       "bdrms  0.559967  1.000000  0.077486  0.442261\n",
       "age    0.079853  0.077486  1.000000  0.051791\n",
       "price  0.854988  0.442261  0.051791  1.000000"
      ]
     },
     "execution_count": 7,
     "metadata": {},
     "output_type": "execute_result"
    }
   ],
   "source": [
    "boston.corr()"
   ]
  },
  {
   "cell_type": "markdown",
   "metadata": {},
   "source": [
    "Let's visualize this matrix."
   ]
  },
  {
   "cell_type": "code",
   "execution_count": 8,
   "metadata": {},
   "outputs": [
    {
     "data": {
      "text/plain": [
       "Text(0.5, 1.0, 'Correlation Heatmap')"
      ]
     },
     "execution_count": 8,
     "metadata": {},
     "output_type": "execute_result"
    },
    {
     "data": {
      "image/png": "[encoded data removed]",
      "text/plain": [
       "<Figure size 432x288 with 1 Axes>"
      ]
     },
     "metadata": {
      "needs_background": "light"
     },
     "output_type": "display_data"
    }
   ],
   "source": [
    "sns.heatmap(boston.corr(), cbar=False, cmap='Greens', annot=True)\n",
    "plt.title('Correlation Heatmap')"
   ]
  },
  {
   "cell_type": "markdown",
   "metadata": {},
   "source": [
    "As previously suggested, there is a relationship between `price` and `sqft` and `bdrms`."
   ]
  },
  {
   "cell_type": "markdown",
   "metadata": {},
   "source": [
    "##### Inspecting the variables "
   ]
  },
  {
   "cell_type": "markdown",
   "metadata": {},
   "source": [
    "#### `sqft`"
   ]
  },
  {
   "cell_type": "code",
   "execution_count": 9,
   "metadata": {},
   "outputs": [
    {
     "data": {
      "text/plain": [
       "Text(0.5, 0, 'Square feet')"
      ]
     },
     "execution_count": 9,
     "metadata": {},
     "output_type": "execute_result"
    },
    {
     "data": {
      "image/png": "[encoded data removed]",
      "text/plain": [
       "<Figure size 432x288 with 1 Axes>"
      ]
     },
     "metadata": {
      "needs_background": "light"
     },
     "output_type": "display_data"
    }
   ],
   "source": [
    "sns.distplot(boston['sqft'], color='slateblue', bins=20)\n",
    "plt.title('Distribution of the square footage')\n",
    "plt.xlabel('Square feet')"
   ]
  },
  {
   "cell_type": "markdown",
   "metadata": {},
   "source": [
    "#### `bdrms`"
   ]
  },
  {
   "cell_type": "code",
   "execution_count": 10,
   "metadata": {
    "scrolled": true
   },
   "outputs": [
    {
     "data": {
      "text/plain": [
       "Text(0.5, 0, 'Number of bedrooms')"
      ]
     },
     "execution_count": 10,
     "metadata": {},
     "output_type": "execute_result"
    },
    {
     "data": {
      "image/png": "[encoded data removed]",
      "text/plain": [
       "<Figure size 432x288 with 1 Axes>"
      ]
     },
     "metadata": {
      "needs_background": "light"
     },
     "output_type": "display_data"
    }
   ],
   "source": [
    "sns.distplot(boston['bdrms'], color='purple', bins=boston['bdrms'].value_counts().shape[0])\n",
    "plt.title('Distribution of the number of bedrooms')\n",
    "plt.xlabel('Number of bedrooms')"
   ]
  },
  {
   "cell_type": "markdown",
   "metadata": {},
   "source": [
    "#### `age`"
   ]
  },
  {
   "cell_type": "code",
   "execution_count": 11,
   "metadata": {},
   "outputs": [
    {
     "data": {
      "text/plain": [
       "Text(0.5, 0, 'Age')"
      ]
     },
     "execution_count": 11,
     "metadata": {},
     "output_type": "execute_result"
    },
    {
     "data": {
      "image/png": "[encoded data removed]",
      "text/plain": [
       "<Figure size 432x288 with 1 Axes>"
      ]
     },
     "metadata": {
      "needs_background": "light"
     },
     "output_type": "display_data"
    }
   ],
   "source": [
    "sns.distplot(boston['age'], color='seagreen', bins=15)\n",
    "plt.title('Distribution of the age')\n",
    "plt.xlabel('Age')"
   ]
  },
  {
   "cell_type": "markdown",
   "metadata": {},
   "source": [
    "#### `price`"
   ]
  },
  {
   "cell_type": "code",
   "execution_count": 12,
   "metadata": {},
   "outputs": [
    {
     "data": {
      "text/plain": [
       "Text(0.5, 0, 'Price')"
      ]
     },
     "execution_count": 12,
     "metadata": {},
     "output_type": "execute_result"
    },
    {
     "data": {
      "image/png": "[encoded data removed]",
      "text/plain": [
       "<Figure size 432x288 with 1 Axes>"
      ]
     },
     "metadata": {
      "needs_background": "light"
     },
     "output_type": "display_data"
    }
   ],
   "source": [
    "sns.distplot(boston['price'], color='royalblue', bins=15)\n",
    "plt.title('Distribution of the price')\n",
    "plt.xlabel('Price')"
   ]
  },
  {
   "cell_type": "markdown",
   "metadata": {},
   "source": [
    "##### Splitting the data into train/test sets"
   ]
  },
  {
   "cell_type": "code",
   "execution_count": 13,
   "metadata": {},
   "outputs": [],
   "source": [
    "X = boston.drop('price', axis=1)\n",
    "y = boston['price']"
   ]
  },
  {
   "cell_type": "code",
   "execution_count": 14,
   "metadata": {},
   "outputs": [],
   "source": [
    "X_train, X_test, y_train, y_test = train_test_split(X, y, test_size=2e-1)"
   ]
  },
  {
   "cell_type": "markdown",
   "metadata": {},
   "source": [
    "### Linear Regression"
   ]
  },
  {
   "cell_type": "code",
   "execution_count": 15,
   "metadata": {},
   "outputs": [],
   "source": [
    "linear = LinearRegression()\n",
    "linear.fit(X_train, y_train)\n",
    "y_pred = linear.predict(X_test)"
   ]
  },
  {
   "cell_type": "markdown",
   "metadata": {},
   "source": [
    "We will compare the predictors using the `mean_absolute_error` metric"
   ]
  },
  {
   "cell_type": "code",
   "execution_count": 16,
   "metadata": {
    "scrolled": true
   },
   "outputs": [
    {
     "data": {
      "text/plain": [
       "43041.70140932824"
      ]
     },
     "execution_count": 16,
     "metadata": {},
     "output_type": "execute_result"
    }
   ],
   "source": [
    "linear_mae = mean_absolute_error(y_test, y_pred)\n",
    "linear_mae"
   ]
  },
  {
   "cell_type": "markdown",
   "metadata": {},
   "source": [
    "We will create a dataframe to visualize performance across models"
   ]
  },
  {
   "cell_type": "code",
   "execution_count": 17,
   "metadata": {},
   "outputs": [],
   "source": [
    "performance = pd.DataFrame([linear_mae], index=['Linear Regression'], columns=['MAE'])"
   ]
  },
  {
   "cell_type": "code",
   "execution_count": 18,
   "metadata": {
    "scrolled": true
   },
   "outputs": [
    {
     "data": {
      "text/html": [
       "<div>\n",
       "<style scoped>\n",
       "    .dataframe tbody tr th:only-of-type {\n",
       "        vertical-align: middle;\n",
       "    }\n",
       "\n",
       "    .dataframe tbody tr th {\n",
       "        vertical-align: top;\n",
       "    }\n",
       "\n",
       "    .dataframe thead th {\n",
       "        text-align: right;\n",
       "    }\n",
       "</style>\n",
       "<table border=\"1\" class=\"dataframe\">\n",
       "  <thead>\n",
       "    <tr style=\"text-align: right;\">\n",
       "      <th></th>\n",
       "      <th>MAE</th>\n",
       "    </tr>\n",
       "  </thead>\n",
       "  <tbody>\n",
       "    <tr>\n",
       "      <th>Linear Regression</th>\n",
       "      <td>43041.701409</td>\n",
       "    </tr>\n",
       "  </tbody>\n",
       "</table>\n",
       "</div>"
      ],
      "text/plain": [
       "                            MAE\n",
       "Linear Regression  43041.701409"
      ]
     },
     "execution_count": 18,
     "metadata": {},
     "output_type": "execute_result"
    }
   ],
   "source": [
    "performance"
   ]
  },
  {
   "cell_type": "code",
   "execution_count": 19,
   "metadata": {},
   "outputs": [
    {
     "data": {
      "text/plain": [
       "Text(0.5, 1.0, 'Error From Various Models')"
      ]
     },
     "execution_count": 19,
     "metadata": {},
     "output_type": "execute_result"
    },
    {
     "data": {
      "image/png": "[encoded data removed]",
      "text/plain": [
       "<Figure size 432x288 with 1 Axes>"
      ]
     },
     "metadata": {
      "needs_background": "light"
     },
     "output_type": "display_data"
    }
   ],
   "source": [
    "plt.bar(performance.index, performance.MAE)\n",
    "plt.title('Error From Various Models')"
   ]
  },
  {
   "cell_type": "markdown",
   "metadata": {},
   "source": [
    "#### Ridge Regression"
   ]
  },
  {
   "cell_type": "code",
   "execution_count": 20,
   "metadata": {},
   "outputs": [
    {
     "data": {
      "text/plain": [
       "43066.41770227694"
      ]
     },
     "execution_count": 20,
     "metadata": {},
     "output_type": "execute_result"
    }
   ],
   "source": [
    "ridge = Ridge()\n",
    "ridge.fit(X_train, y_train)\n",
    "y_pred = ridge.predict(X_test)\n",
    "mean_absolute_error(y_test, y_pred)"
   ]
  },
  {
   "cell_type": "markdown",
   "metadata": {},
   "source": [
    "Let's try to find optimal parameter values for the regularization parameter"
   ]
  },
  {
   "cell_type": "code",
   "execution_count": 21,
   "metadata": {},
   "outputs": [],
   "source": [
    "ridge_param_grid = {'alpha':np.linspace(0.0001, 1, 100)}"
   ]
  },
  {
   "cell_type": "code",
   "execution_count": 22,
   "metadata": {},
   "outputs": [
    {
     "data": {
      "text/plain": [
       "Ridge(alpha=1.0, copy_X=True, fit_intercept=True, max_iter=None,\n",
       "   normalize=False, random_state=None, solver='auto', tol=0.001)"
      ]
     },
     "execution_count": 22,
     "metadata": {},
     "output_type": "execute_result"
    }
   ],
   "source": [
    "ridge_grid = GridSearchCV(ridge, ridge_param_grid, cv=5, n_jobs=-1, iid=False, scoring='neg_mean_squared_error')\n",
    "ridge_grid.fit(X_train, y_train)\n",
    "ridge_grid.best_estimator_"
   ]
  },
  {
   "cell_type": "code",
   "execution_count": 23,
   "metadata": {},
   "outputs": [
    {
     "data": {
      "text/plain": [
       "43066.41770227694"
      ]
     },
     "execution_count": 23,
     "metadata": {},
     "output_type": "execute_result"
    }
   ],
   "source": [
    "ridge_mae = mean_absolute_error(y_test, ridge_grid.best_estimator_.predict(X_test))\n",
    "ridge_mae"
   ]
  },
  {
   "cell_type": "code",
   "execution_count": 24,
   "metadata": {},
   "outputs": [],
   "source": [
    "performance = pd.concat([performance, pd.DataFrame([ridge_mae], index=['Ridge'], columns=['MAE'])])"
   ]
  },
  {
   "cell_type": "code",
   "execution_count": 25,
   "metadata": {},
   "outputs": [
    {
     "data": {
      "text/html": [
       "<div>\n",
       "<style scoped>\n",
       "    .dataframe tbody tr th:only-of-type {\n",
       "        vertical-align: middle;\n",
       "    }\n",
       "\n",
       "    .dataframe tbody tr th {\n",
       "        vertical-align: top;\n",
       "    }\n",
       "\n",
       "    .dataframe thead th {\n",
       "        text-align: right;\n",
       "    }\n",
       "</style>\n",
       "<table border=\"1\" class=\"dataframe\">\n",
       "  <thead>\n",
       "    <tr style=\"text-align: right;\">\n",
       "      <th></th>\n",
       "      <th>MAE</th>\n",
       "    </tr>\n",
       "  </thead>\n",
       "  <tbody>\n",
       "    <tr>\n",
       "      <th>Linear Regression</th>\n",
       "      <td>43041.701409</td>\n",
       "    </tr>\n",
       "    <tr>\n",
       "      <th>Ridge</th>\n",
       "      <td>43066.417702</td>\n",
       "    </tr>\n",
       "  </tbody>\n",
       "</table>\n",
       "</div>"
      ],
      "text/plain": [
       "                            MAE\n",
       "Linear Regression  43041.701409\n",
       "Ridge              43066.417702"
      ]
     },
     "execution_count": 25,
     "metadata": {},
     "output_type": "execute_result"
    }
   ],
   "source": [
    "performance"
   ]
  },
  {
   "cell_type": "code",
   "execution_count": 26,
   "metadata": {},
   "outputs": [
    {
     "data": {
      "text/plain": [
       "Text(0.5, 1.0, 'Error From Various Models')"
      ]
     },
     "execution_count": 26,
     "metadata": {},
     "output_type": "execute_result"
    },
    {
     "data": {
      "image/png": "[encoded data removed]",
      "text/plain": [
       "<Figure size 432x288 with 1 Axes>"
      ]
     },
     "metadata": {
      "needs_background": "light"
     },
     "output_type": "display_data"
    }
   ],
   "source": [
    "plt.bar(performance.index, performance['MAE'])\n",
    "plt.title('Error From Various Models')"
   ]
  },
  {
   "cell_type": "markdown",
   "metadata": {},
   "source": [
    "#### Lasso Regression"
   ]
  },
  {
   "cell_type": "code",
   "execution_count": 27,
   "metadata": {},
   "outputs": [
    {
     "data": {
      "text/plain": [
       "43042.22148345336"
      ]
     },
     "execution_count": 27,
     "metadata": {},
     "output_type": "execute_result"
    }
   ],
   "source": [
    "lasso = Lasso()\n",
    "lasso.fit(X_train, y_train)\n",
    "y_pred = lasso.predict(X_test)\n",
    "mean_absolute_error(y_test, y_pred)"
   ]
  },
  {
   "cell_type": "markdown",
   "metadata": {},
   "source": [
    "Let's try to find optimal parameter values for the regularization parameter"
   ]
  },
  {
   "cell_type": "code",
   "execution_count": 28,
   "metadata": {},
   "outputs": [],
   "source": [
    "lasso_param_grid = {'alpha':np.linspace(0.0001, 1, 100)}"
   ]
  },
  {
   "cell_type": "code",
   "execution_count": 29,
   "metadata": {},
   "outputs": [
    {
     "data": {
      "text/plain": [
       "Lasso(alpha=1.0, copy_X=True, fit_intercept=True, max_iter=1000,\n",
       "   normalize=False, positive=False, precompute=False, random_state=None,\n",
       "   selection='cyclic', tol=0.0001, warm_start=False)"
      ]
     },
     "execution_count": 29,
     "metadata": {},
     "output_type": "execute_result"
    }
   ],
   "source": [
    "lasso_grid = GridSearchCV(lasso, lasso_param_grid, cv=5, n_jobs=-1, iid=False, scoring='neg_mean_squared_error')\n",
    "lasso_grid.fit(X_train, y_train)\n",
    "lasso_grid.best_estimator_"
   ]
  },
  {
   "cell_type": "code",
   "execution_count": 30,
   "metadata": {},
   "outputs": [
    {
     "data": {
      "text/plain": [
       "43042.22148345336"
      ]
     },
     "execution_count": 30,
     "metadata": {},
     "output_type": "execute_result"
    }
   ],
   "source": [
    "lasso_mae = mean_absolute_error(y_test, lasso_grid.best_estimator_.predict(X_test))\n",
    "lasso_mae"
   ]
  },
  {
   "cell_type": "code",
   "execution_count": 31,
   "metadata": {},
   "outputs": [],
   "source": [
    "performance = pd.concat([performance, pd.DataFrame([lasso_mae], index=['Lasso'], columns=['MAE'])])"
   ]
  },
  {
   "cell_type": "code",
   "execution_count": 32,
   "metadata": {},
   "outputs": [
    {
     "data": {
      "text/html": [
       "<div>\n",
       "<style scoped>\n",
       "    .dataframe tbody tr th:only-of-type {\n",
       "        vertical-align: middle;\n",
       "    }\n",
       "\n",
       "    .dataframe tbody tr th {\n",
       "        vertical-align: top;\n",
       "    }\n",
       "\n",
       "    .dataframe thead th {\n",
       "        text-align: right;\n",
       "    }\n",
       "</style>\n",
       "<table border=\"1\" class=\"dataframe\">\n",
       "  <thead>\n",
       "    <tr style=\"text-align: right;\">\n",
       "      <th></th>\n",
       "      <th>MAE</th>\n",
       "    </tr>\n",
       "  </thead>\n",
       "  <tbody>\n",
       "    <tr>\n",
       "      <th>Linear Regression</th>\n",
       "      <td>43041.701409</td>\n",
       "    </tr>\n",
       "    <tr>\n",
       "      <th>Ridge</th>\n",
       "      <td>43066.417702</td>\n",
       "    </tr>\n",
       "    <tr>\n",
       "      <th>Lasso</th>\n",
       "      <td>43042.221483</td>\n",
       "    </tr>\n",
       "  </tbody>\n",
       "</table>\n",
       "</div>"
      ],
      "text/plain": [
       "                            MAE\n",
       "Linear Regression  43041.701409\n",
       "Ridge              43066.417702\n",
       "Lasso              43042.221483"
      ]
     },
     "execution_count": 32,
     "metadata": {},
     "output_type": "execute_result"
    }
   ],
   "source": [
    "performance"
   ]
  },
  {
   "cell_type": "code",
   "execution_count": 33,
   "metadata": {},
   "outputs": [
    {
     "data": {
      "text/plain": [
       "Text(0.5, 1.0, 'Error From Various Models')"
      ]
     },
     "execution_count": 33,
     "metadata": {},
     "output_type": "execute_result"
    },
    {
     "data": {
      "image/png": "[encoded data removed]",
      "text/plain": [
       "<Figure size 432x288 with 1 Axes>"
      ]
     },
     "metadata": {
      "needs_background": "light"
     },
     "output_type": "display_data"
    }
   ],
   "source": [
    "plt.bar(performance.index, performance['MAE'])\n",
    "plt.title('Error From Various Models')"
   ]
  },
  {
   "cell_type": "markdown",
   "metadata": {},
   "source": [
    "#### Decision Tree Regressor"
   ]
  },
  {
   "cell_type": "code",
   "execution_count": 34,
   "metadata": {},
   "outputs": [
    {
     "data": {
      "text/plain": [
       "65589.8"
      ]
     },
     "execution_count": 34,
     "metadata": {},
     "output_type": "execute_result"
    }
   ],
   "source": [
    "tree_reg = DecisionTreeRegressor()\n",
    "tree_reg.fit(X_train, y_train)\n",
    "y_pred = tree_reg.predict(X_test)\n",
    "mean_absolute_error(y_test, y_pred)"
   ]
  },
  {
   "cell_type": "code",
   "execution_count": 35,
   "metadata": {},
   "outputs": [
    {
     "data": {
      "text/plain": [
       "65589.8"
      ]
     },
     "execution_count": 35,
     "metadata": {},
     "output_type": "execute_result"
    }
   ],
   "source": [
    "tree_mae = mean_absolute_error(y_test, y_pred)\n",
    "tree_mae"
   ]
  },
  {
   "cell_type": "code",
   "execution_count": 36,
   "metadata": {},
   "outputs": [],
   "source": [
    "performance = pd.concat([performance, pd.DataFrame([tree_mae], index=['Decision Tree Regressor'], columns=['MAE'])])"
   ]
  },
  {
   "cell_type": "code",
   "execution_count": 37,
   "metadata": {},
   "outputs": [
    {
     "data": {
      "text/html": [
       "<div>\n",
       "<style scoped>\n",
       "    .dataframe tbody tr th:only-of-type {\n",
       "        vertical-align: middle;\n",
       "    }\n",
       "\n",
       "    .dataframe tbody tr th {\n",
       "        vertical-align: top;\n",
       "    }\n",
       "\n",
       "    .dataframe thead th {\n",
       "        text-align: right;\n",
       "    }\n",
       "</style>\n",
       "<table border=\"1\" class=\"dataframe\">\n",
       "  <thead>\n",
       "    <tr style=\"text-align: right;\">\n",
       "      <th></th>\n",
       "      <th>MAE</th>\n",
       "    </tr>\n",
       "  </thead>\n",
       "  <tbody>\n",
       "    <tr>\n",
       "      <th>Linear Regression</th>\n",
       "      <td>43041.701409</td>\n",
       "    </tr>\n",
       "    <tr>\n",
       "      <th>Ridge</th>\n",
       "      <td>43066.417702</td>\n",
       "    </tr>\n",
       "    <tr>\n",
       "      <th>Lasso</th>\n",
       "      <td>43042.221483</td>\n",
       "    </tr>\n",
       "    <tr>\n",
       "      <th>Decision Tree Regressor</th>\n",
       "      <td>65589.800000</td>\n",
       "    </tr>\n",
       "  </tbody>\n",
       "</table>\n",
       "</div>"
      ],
      "text/plain": [
       "                                  MAE\n",
       "Linear Regression        43041.701409\n",
       "Ridge                    43066.417702\n",
       "Lasso                    43042.221483\n",
       "Decision Tree Regressor  65589.800000"
      ]
     },
     "execution_count": 37,
     "metadata": {},
     "output_type": "execute_result"
    }
   ],
   "source": [
    "performance"
   ]
  },
  {
   "cell_type": "code",
   "execution_count": 38,
   "metadata": {},
   "outputs": [
    {
     "data": {
      "text/plain": [
       "Text(0.5, 1.0, 'Error From Various Models')"
      ]
     },
     "execution_count": 38,
     "metadata": {},
     "output_type": "execute_result"
    },
    {
     "data": {
      "image/png": "[encoded data removed]",
      "text/plain": [
       "<Figure size 432x288 with 1 Axes>"
      ]
     },
     "metadata": {
      "needs_background": "light"
     },
     "output_type": "display_data"
    }
   ],
   "source": [
    "plt.bar(performance.index, performance['MAE'])\n",
    "plt.title('Error From Various Models')"
   ]
  },
  {
   "cell_type": "markdown",
   "metadata": {},
   "source": [
    "### Neural Network"
   ]
  },
  {
   "cell_type": "markdown",
   "metadata": {},
   "source": [
    "#### Building the model"
   ]
  },
  {
   "cell_type": "code",
   "execution_count": 39,
   "metadata": {},
   "outputs": [],
   "source": [
    "model = Sequential()\n",
    "model.add(Dense(8, input_shape=(X_train.shape[1],)))\n",
    "model.add(Dense(64, activation='relu'))\n",
    "model.add(Dropout(0.001))\n",
    "model.add(Dense(100, activation='relu'))\n",
    "model.add(Dense(200, activation='relu'))\n",
    "model.add(Dense(500, activation='relu'))\n",
    "model.add(Dense(1, activation='linear'))"
   ]
  },
  {
   "cell_type": "markdown",
   "metadata": {},
   "source": [
    "#### Compiling the model"
   ]
  },
  {
   "cell_type": "code",
   "execution_count": 40,
   "metadata": {},
   "outputs": [],
   "source": [
    "model.compile(optimizer='adam', loss='mean_absolute_percentage_error', metrics=['mae'])"
   ]
  },
  {
   "cell_type": "markdown",
   "metadata": {},
   "source": [
    "#### Model settings"
   ]
  },
  {
   "cell_type": "code",
   "execution_count": 41,
   "metadata": {},
   "outputs": [],
   "source": [
    "epochs = 10_000\n",
    "batch_size = 16"
   ]
  },
  {
   "cell_type": "markdown",
   "metadata": {},
   "source": [
    "#### Training the model"
   ]
  },
  {
   "cell_type": "code",
   "execution_count": 42,
   "metadata": {},
   "outputs": [],
   "source": [
    "history = model.fit(X_train, y_train, epochs=epochs, batch_size=batch_size, validation_data=[X_test, y_test], \n",
    "                    callbacks=[EarlyStopping(monitor='val_loss', patience=5e2)], verbose=0)"
   ]
  },
  {
   "cell_type": "code",
   "execution_count": 43,
   "metadata": {
    "scrolled": true
   },
   "outputs": [
    {
     "data": {
      "text/html": [
       "<div>\n",
       "<style scoped>\n",
       "    .dataframe tbody tr th:only-of-type {\n",
       "        vertical-align: middle;\n",
       "    }\n",
       "\n",
       "    .dataframe tbody tr th {\n",
       "        vertical-align: top;\n",
       "    }\n",
       "\n",
       "    .dataframe thead th {\n",
       "        text-align: right;\n",
       "    }\n",
       "</style>\n",
       "<table border=\"1\" class=\"dataframe\">\n",
       "  <thead>\n",
       "    <tr style=\"text-align: right;\">\n",
       "      <th></th>\n",
       "      <th>loss</th>\n",
       "      <th>mae</th>\n",
       "      <th>val_loss</th>\n",
       "      <th>val_mae</th>\n",
       "    </tr>\n",
       "  </thead>\n",
       "  <tbody>\n",
       "    <tr>\n",
       "      <th>1</th>\n",
       "      <td>99.947269</td>\n",
       "      <td>348144.87500</td>\n",
       "      <td>99.785660</td>\n",
       "      <td>310470.59375</td>\n",
       "    </tr>\n",
       "    <tr>\n",
       "      <th>2</th>\n",
       "      <td>99.724481</td>\n",
       "      <td>347350.43750</td>\n",
       "      <td>99.508156</td>\n",
       "      <td>309616.93750</td>\n",
       "    </tr>\n",
       "    <tr>\n",
       "      <th>3</th>\n",
       "      <td>99.420380</td>\n",
       "      <td>346298.50000</td>\n",
       "      <td>99.092323</td>\n",
       "      <td>308337.71875</td>\n",
       "    </tr>\n",
       "    <tr>\n",
       "      <th>4</th>\n",
       "      <td>98.957849</td>\n",
       "      <td>344707.03125</td>\n",
       "      <td>98.445480</td>\n",
       "      <td>306347.87500</td>\n",
       "    </tr>\n",
       "    <tr>\n",
       "      <th>5</th>\n",
       "      <td>98.219611</td>\n",
       "      <td>342128.78125</td>\n",
       "      <td>97.451080</td>\n",
       "      <td>303289.00000</td>\n",
       "    </tr>\n",
       "  </tbody>\n",
       "</table>\n",
       "</div>"
      ],
      "text/plain": [
       "        loss           mae   val_loss       val_mae\n",
       "1  99.947269  348144.87500  99.785660  310470.59375\n",
       "2  99.724481  347350.43750  99.508156  309616.93750\n",
       "3  99.420380  346298.50000  99.092323  308337.71875\n",
       "4  98.957849  344707.03125  98.445480  306347.87500\n",
       "5  98.219611  342128.78125  97.451080  303289.00000"
      ]
     },
     "execution_count": 43,
     "metadata": {},
     "output_type": "execute_result"
    }
   ],
   "source": [
    "history_df = pd.DataFrame(history.history)\n",
    "history_df.index += 1\n",
    "history_df.head()"
   ]
  },
  {
   "cell_type": "code",
   "execution_count": 44,
   "metadata": {},
   "outputs": [],
   "source": [
    "start = 18\n",
    "stop = history_df.shape[0]"
   ]
  },
  {
   "cell_type": "code",
   "execution_count": 45,
   "metadata": {},
   "outputs": [
    {
     "data": {
      "text/plain": [
       "Text(0, 0.5, 'MAPE (%)')"
      ]
     },
     "execution_count": 45,
     "metadata": {},
     "output_type": "execute_result"
    },
    {
     "data": {
      "image/png": "[encoded data removed]",
      "text/plain": [
       "<Figure size 432x288 with 1 Axes>"
      ]
     },
     "metadata": {
      "needs_background": "light"
     },
     "output_type": "display_data"
    }
   ],
   "source": [
    "plt.plot(1+np.arange(start, stop), history_df['val_loss'][start:], c='green')\n",
    "plt.plot(1+np.arange(start, stop), history_df['loss'][start:], c='red')\n",
    "plt.legend(('Validation MAPE (%)', 'Train MAPE (%)'))\n",
    "plt.title('Loss Per Epoch')\n",
    "plt.xlabel('Epoch (starts at {})'.format(start))\n",
    "plt.ylabel('MAPE (%)')"
   ]
  },
  {
   "cell_type": "code",
   "execution_count": 46,
   "metadata": {},
   "outputs": [
    {
     "name": "stdout",
     "output_type": "stream",
     "text": [
      "Model: \"sequential\"\n",
      "_________________________________________________________________\n",
      "Layer (type)                 Output Shape              Param #   \n",
      "=================================================================\n",
      "dense (Dense)                (None, 8)                 32        \n",
      "_________________________________________________________________\n",
      "dense_1 (Dense)              (None, 64)                576       \n",
      "_________________________________________________________________\n",
      "dropout (Dropout)            (None, 64)                0         \n",
      "_________________________________________________________________\n",
      "dense_2 (Dense)              (None, 100)               6500      \n",
      "_________________________________________________________________\n",
      "dense_3 (Dense)              (None, 200)               20200     \n",
      "_________________________________________________________________\n",
      "dense_4 (Dense)              (None, 500)               100500    \n",
      "_________________________________________________________________\n",
      "dense_5 (Dense)              (None, 1)                 501       \n",
      "=================================================================\n",
      "Total params: 128,309\n",
      "Trainable params: 128,309\n",
      "Non-trainable params: 0\n",
      "_________________________________________________________________\n"
     ]
    }
   ],
   "source": [
    "model.summary()"
   ]
  },
  {
   "cell_type": "markdown",
   "metadata": {},
   "source": [
    "Final score neural net `mean_absolute_error`:"
   ]
  },
  {
   "cell_type": "code",
   "execution_count": 47,
   "metadata": {},
   "outputs": [
    {
     "name": "stdout",
     "output_type": "stream",
     "text": [
      "lowest validation mae: 39642.28125\n"
     ]
    }
   ],
   "source": [
    "print('lowest validation mae: {}'.format(min(history.history['val_mae'])))"
   ]
  },
  {
   "cell_type": "code",
   "execution_count": 48,
   "metadata": {},
   "outputs": [],
   "source": [
    "performance = pd.concat([performance, pd.DataFrame(min(history.history['val_mae']), \n",
    "                                                   index=['Neural Network'], columns=['MAE'])])"
   ]
  },
  {
   "cell_type": "code",
   "execution_count": 49,
   "metadata": {},
   "outputs": [
    {
     "data": {
      "text/html": [
       "<div>\n",
       "<style scoped>\n",
       "    .dataframe tbody tr th:only-of-type {\n",
       "        vertical-align: middle;\n",
       "    }\n",
       "\n",
       "    .dataframe tbody tr th {\n",
       "        vertical-align: top;\n",
       "    }\n",
       "\n",
       "    .dataframe thead th {\n",
       "        text-align: right;\n",
       "    }\n",
       "</style>\n",
       "<table border=\"1\" class=\"dataframe\">\n",
       "  <thead>\n",
       "    <tr style=\"text-align: right;\">\n",
       "      <th></th>\n",
       "      <th>MAE</th>\n",
       "    </tr>\n",
       "  </thead>\n",
       "  <tbody>\n",
       "    <tr>\n",
       "      <th>Linear Regression</th>\n",
       "      <td>43041.701409</td>\n",
       "    </tr>\n",
       "    <tr>\n",
       "      <th>Ridge</th>\n",
       "      <td>43066.417702</td>\n",
       "    </tr>\n",
       "    <tr>\n",
       "      <th>Lasso</th>\n",
       "      <td>43042.221483</td>\n",
       "    </tr>\n",
       "    <tr>\n",
       "      <th>Decision Tree Regressor</th>\n",
       "      <td>65589.800000</td>\n",
       "    </tr>\n",
       "    <tr>\n",
       "      <th>Neural Network</th>\n",
       "      <td>39642.281250</td>\n",
       "    </tr>\n",
       "  </tbody>\n",
       "</table>\n",
       "</div>"
      ],
      "text/plain": [
       "                                  MAE\n",
       "Linear Regression        43041.701409\n",
       "Ridge                    43066.417702\n",
       "Lasso                    43042.221483\n",
       "Decision Tree Regressor  65589.800000\n",
       "Neural Network           39642.281250"
      ]
     },
     "execution_count": 49,
     "metadata": {},
     "output_type": "execute_result"
    }
   ],
   "source": [
    "performance"
   ]
  },
  {
   "cell_type": "code",
   "execution_count": 50,
   "metadata": {},
   "outputs": [
    {
     "data": {
      "text/plain": [
       "Text(0.5, 1.0, 'Error From Various Models')"
      ]
     },
     "execution_count": 50,
     "metadata": {},
     "output_type": "execute_result"
    },
    {
     "data": {
      "image/png": "[encoded data removed]",
      "text/plain": [
       "<Figure size 432x288 with 1 Axes>"
      ]
     },
     "metadata": {
      "needs_background": "light"
     },
     "output_type": "display_data"
    }
   ],
   "source": [
    "plt.bar(performance.index, performance['MAE'])\n",
    "plt.title('Error From Various Models')"
   ]
  },
  {
   "cell_type": "markdown",
   "metadata": {},
   "source": [
    "Close call"
   ]
  },
  {
   "cell_type": "markdown",
   "metadata": {},
   "source": [
    "## MNIST - Classifying Hand-Written Digits"
   ]
  },
  {
   "cell_type": "markdown",
   "metadata": {},
   "source": [
    "##### Loading the data"
   ]
  },
  {
   "cell_type": "code",
   "execution_count": 51,
   "metadata": {},
   "outputs": [],
   "source": [
    "from sklearn.datasets import fetch_openml"
   ]
  },
  {
   "cell_type": "markdown",
   "metadata": {},
   "source": [
    "##### Separating the predictors and targets"
   ]
  },
  {
   "cell_type": "code",
   "execution_count": 52,
   "metadata": {},
   "outputs": [],
   "source": [
    "X, y = fetch_openml('mnist_784', return_X_y=True)"
   ]
  },
  {
   "cell_type": "code",
   "execution_count": 53,
   "metadata": {},
   "outputs": [
    {
     "data": {
      "text/plain": [
       "((70000, 784), (70000,))"
      ]
     },
     "execution_count": 53,
     "metadata": {},
     "output_type": "execute_result"
    }
   ],
   "source": [
    "X.shape, y.shape"
   ]
  },
  {
   "cell_type": "code",
   "execution_count": 54,
   "metadata": {},
   "outputs": [],
   "source": [
    "y = to_categorical(y)"
   ]
  },
  {
   "cell_type": "markdown",
   "metadata": {},
   "source": [
    "##### Scaling the data"
   ]
  },
  {
   "cell_type": "code",
   "execution_count": 55,
   "metadata": {},
   "outputs": [],
   "source": [
    "X /= 255"
   ]
  },
  {
   "cell_type": "markdown",
   "metadata": {},
   "source": [
    "##### Separating the train/test data"
   ]
  },
  {
   "cell_type": "code",
   "execution_count": 56,
   "metadata": {},
   "outputs": [],
   "source": [
    "X_train = X[:60_000]\n",
    "X_test = X[60_000:]\n",
    "y_train = y[:60_000]\n",
    "y_test = y[60_000:]"
   ]
  },
  {
   "cell_type": "markdown",
   "metadata": {},
   "source": [
    "##### Building the model"
   ]
  },
  {
   "cell_type": "code",
   "execution_count": 57,
   "metadata": {},
   "outputs": [],
   "source": [
    "model = Sequential()\n",
    "model.add(Dense(24, input_shape=[X.shape[1]]))\n",
    "model.add(Dense(36, activation='relu'))\n",
    "model.add(Dropout(0.2))\n",
    "model.add(Dense(64, activation='relu'))\n",
    "model.add(Dense(80, activation='relu'))\n",
    "model.add(Dense(10, activation='softmax'))"
   ]
  },
  {
   "cell_type": "markdown",
   "metadata": {},
   "source": [
    "##### Compiling the model"
   ]
  },
  {
   "cell_type": "code",
   "execution_count": 58,
   "metadata": {},
   "outputs": [],
   "source": [
    "model.compile(optimizer='adam', loss='categorical_crossentropy', metrics=['accuracy'])"
   ]
  },
  {
   "cell_type": "markdown",
   "metadata": {},
   "source": [
    "##### Model parameters"
   ]
  },
  {
   "cell_type": "code",
   "execution_count": 59,
   "metadata": {},
   "outputs": [],
   "source": [
    "validation_split = 0.1\n",
    "batch_size = 64\n",
    "epochs = 1_00\n",
    "patience = epochs/10 +1\n",
    "monitor = 'val_accuracy'"
   ]
  },
  {
   "cell_type": "markdown",
   "metadata": {},
   "source": [
    "##### Training the model"
   ]
  },
  {
   "cell_type": "code",
   "execution_count": 60,
   "metadata": {
    "scrolled": true
   },
   "outputs": [],
   "source": [
    "history = model.fit(X_train, y_train, \n",
    "                    validation_split=validation_split, \n",
    "                    verbose=0, \n",
    "                    epochs=epochs,\n",
    "                    batch_size=batch_size, \n",
    "                    callbacks=[EarlyStopping(monitor=monitor, patience=patience)])"
   ]
  },
  {
   "cell_type": "markdown",
   "metadata": {},
   "source": [
    "##### Visualizing the epochs"
   ]
  },
  {
   "cell_type": "code",
   "execution_count": 61,
   "metadata": {},
   "outputs": [
    {
     "name": "stdout",
     "output_type": "stream",
     "text": [
      "highest validation accuracy: 0.9758333563804626\n",
      "lowest validation loss: 0.08335386250913143\n",
      "highest accuracy: 0.965499997138977\n",
      "lowest loss: 0.10547784771797834\n"
     ]
    }
   ],
   "source": [
    "print('highest validation accuracy: {}'.format(max(history.history['val_accuracy'])))\n",
    "print('lowest validation loss: {}'.format(min(history.history['val_loss'])))\n",
    "print('highest accuracy: {}'.format(max(history.history['accuracy'])))\n",
    "print('lowest loss: {}'.format(min(history.history['loss'])))"
   ]
  },
  {
   "cell_type": "code",
   "execution_count": 62,
   "metadata": {},
   "outputs": [
    {
     "name": "stdout",
     "output_type": "stream",
     "text": [
      "Model: \"sequential_1\"\n",
      "_________________________________________________________________\n",
      "Layer (type)                 Output Shape              Param #   \n",
      "=================================================================\n",
      "dense_6 (Dense)              (None, 24)                18840     \n",
      "_________________________________________________________________\n",
      "dense_7 (Dense)              (None, 36)                900       \n",
      "_________________________________________________________________\n",
      "dropout_1 (Dropout)          (None, 36)                0         \n",
      "_________________________________________________________________\n",
      "dense_8 (Dense)              (None, 64)                2368      \n",
      "_________________________________________________________________\n",
      "dense_9 (Dense)              (None, 80)                5200      \n",
      "_________________________________________________________________\n",
      "dense_10 (Dense)             (None, 10)                810       \n",
      "=================================================================\n",
      "Total params: 28,118\n",
      "Trainable params: 28,118\n",
      "Non-trainable params: 0\n",
      "_________________________________________________________________\n"
     ]
    }
   ],
   "source": [
    "model.summary()"
   ]
  },
  {
   "cell_type": "code",
   "execution_count": 63,
   "metadata": {},
   "outputs": [
    {
     "data": {
      "text/html": [
       "<div>\n",
       "<style scoped>\n",
       "    .dataframe tbody tr th:only-of-type {\n",
       "        vertical-align: middle;\n",
       "    }\n",
       "\n",
       "    .dataframe tbody tr th {\n",
       "        vertical-align: top;\n",
       "    }\n",
       "\n",
       "    .dataframe thead th {\n",
       "        text-align: right;\n",
       "    }\n",
       "</style>\n",
       "<table border=\"1\" class=\"dataframe\">\n",
       "  <thead>\n",
       "    <tr style=\"text-align: right;\">\n",
       "      <th></th>\n",
       "      <th>loss</th>\n",
       "      <th>accuracy</th>\n",
       "      <th>val_loss</th>\n",
       "      <th>val_accuracy</th>\n",
       "    </tr>\n",
       "  </thead>\n",
       "  <tbody>\n",
       "    <tr>\n",
       "      <th>1</th>\n",
       "      <td>0.510431</td>\n",
       "      <td>0.838519</td>\n",
       "      <td>0.186444</td>\n",
       "      <td>0.944333</td>\n",
       "    </tr>\n",
       "    <tr>\n",
       "      <th>2</th>\n",
       "      <td>0.281807</td>\n",
       "      <td>0.914259</td>\n",
       "      <td>0.162672</td>\n",
       "      <td>0.951500</td>\n",
       "    </tr>\n",
       "    <tr>\n",
       "      <th>3</th>\n",
       "      <td>0.245263</td>\n",
       "      <td>0.923556</td>\n",
       "      <td>0.140540</td>\n",
       "      <td>0.957833</td>\n",
       "    </tr>\n",
       "    <tr>\n",
       "      <th>4</th>\n",
       "      <td>0.221824</td>\n",
       "      <td>0.930019</td>\n",
       "      <td>0.135875</td>\n",
       "      <td>0.956167</td>\n",
       "    </tr>\n",
       "    <tr>\n",
       "      <th>5</th>\n",
       "      <td>0.208123</td>\n",
       "      <td>0.935185</td>\n",
       "      <td>0.143817</td>\n",
       "      <td>0.955000</td>\n",
       "    </tr>\n",
       "  </tbody>\n",
       "</table>\n",
       "</div>"
      ],
      "text/plain": [
       "       loss  accuracy  val_loss  val_accuracy\n",
       "1  0.510431  0.838519  0.186444      0.944333\n",
       "2  0.281807  0.914259  0.162672      0.951500\n",
       "3  0.245263  0.923556  0.140540      0.957833\n",
       "4  0.221824  0.930019  0.135875      0.956167\n",
       "5  0.208123  0.935185  0.143817      0.955000"
      ]
     },
     "execution_count": 63,
     "metadata": {},
     "output_type": "execute_result"
    }
   ],
   "source": [
    "history_df = pd.DataFrame(history.history)\n",
    "history_df.index += 1\n",
    "history_df.head()"
   ]
  },
  {
   "cell_type": "code",
   "execution_count": 64,
   "metadata": {},
   "outputs": [],
   "source": [
    "start = 0\n",
    "stop = history_df.shape[0]"
   ]
  },
  {
   "cell_type": "code",
   "execution_count": 65,
   "metadata": {},
   "outputs": [
    {
     "data": {
      "text/plain": [
       "Text(0, 0.5, 'Loss')"
      ]
     },
     "execution_count": 65,
     "metadata": {},
     "output_type": "execute_result"
    },
    {
     "data": {
      "image/png": "[encoded data removed]",
      "text/plain": [
       "<Figure size 432x288 with 1 Axes>"
      ]
     },
     "metadata": {
      "needs_background": "light"
     },
     "output_type": "display_data"
    }
   ],
   "source": [
    "plt.plot(1+np.arange(start, stop), history_df['val_loss'][start:], c='green')\n",
    "plt.plot(1+np.arange(start, stop), history_df['loss'][start:], c='red')\n",
    "plt.legend(('Validation Loss', 'Train Loss'))\n",
    "plt.title('Loss Per Epoch')\n",
    "plt.xlabel('Epoch (starts at {})'.format(start))\n",
    "plt.ylabel('Loss')"
   ]
  },
  {
   "cell_type": "code",
   "execution_count": 66,
   "metadata": {},
   "outputs": [
    {
     "data": {
      "text/plain": [
       "Text(0, 0.5, 'Accuracy')"
      ]
     },
     "execution_count": 66,
     "metadata": {},
     "output_type": "execute_result"
    },
    {
     "data": {
      "image/png": "[encoded data removed]",
      "text/plain": [
       "<Figure size 432x288 with 1 Axes>"
      ]
     },
     "metadata": {
      "needs_background": "light"
     },
     "output_type": "display_data"
    }
   ],
   "source": [
    "plt.plot(1+np.arange(start, stop), history_df['val_accuracy'][start:], 'green')\n",
    "plt.plot(1+np.arange(start, stop), history_df['accuracy'][start:], c='red')\n",
    "plt.legend(('Validation Accuracy (%)', 'Train Accuracy (%)'))\n",
    "plt.title('Acuracy Per Epoch')\n",
    "plt.xlabel('Epoch (starts at {})'.format(start))\n",
    "plt.ylabel('Accuracy')"
   ]
  },
  {
   "cell_type": "markdown",
   "metadata": {},
   "source": [
    "## Titanic - Will They Survive?"
   ]
  },
  {
   "cell_type": "markdown",
   "metadata": {},
   "source": [
    "##### Getting the data"
   ]
  },
  {
   "cell_type": "code",
   "execution_count": 67,
   "metadata": {},
   "outputs": [],
   "source": [
    "url = 'https://storage.googleapis.com/nicksdemobucket/titanic-train.csv'"
   ]
  },
  {
   "cell_type": "code",
   "execution_count": 68,
   "metadata": {
    "scrolled": true
   },
   "outputs": [
    {
     "data": {
      "text/html": [
       "<div>\n",
       "<style scoped>\n",
       "    .dataframe tbody tr th:only-of-type {\n",
       "        vertical-align: middle;\n",
       "    }\n",
       "\n",
       "    .dataframe tbody tr th {\n",
       "        vertical-align: top;\n",
       "    }\n",
       "\n",
       "    .dataframe thead th {\n",
       "        text-align: right;\n",
       "    }\n",
       "</style>\n",
       "<table border=\"1\" class=\"dataframe\">\n",
       "  <thead>\n",
       "    <tr style=\"text-align: right;\">\n",
       "      <th></th>\n",
       "      <th>Survived</th>\n",
       "      <th>Pclass</th>\n",
       "      <th>Name</th>\n",
       "      <th>Sex</th>\n",
       "      <th>Age</th>\n",
       "      <th>SibSp</th>\n",
       "      <th>Parch</th>\n",
       "      <th>Ticket</th>\n",
       "      <th>Fare</th>\n",
       "      <th>Cabin</th>\n",
       "      <th>Embarked</th>\n",
       "    </tr>\n",
       "    <tr>\n",
       "      <th>PassengerId</th>\n",
       "      <th></th>\n",
       "      <th></th>\n",
       "      <th></th>\n",
       "      <th></th>\n",
       "      <th></th>\n",
       "      <th></th>\n",
       "      <th></th>\n",
       "      <th></th>\n",
       "      <th></th>\n",
       "      <th></th>\n",
       "      <th></th>\n",
       "    </tr>\n",
       "  </thead>\n",
       "  <tbody>\n",
       "    <tr>\n",
       "      <th>1</th>\n",
       "      <td>0</td>\n",
       "      <td>3</td>\n",
       "      <td>Braund, Mr. Owen Harris</td>\n",
       "      <td>male</td>\n",
       "      <td>22.0</td>\n",
       "      <td>1</td>\n",
       "      <td>0</td>\n",
       "      <td>A/5 21171</td>\n",
       "      <td>7.2500</td>\n",
       "      <td>NaN</td>\n",
       "      <td>S</td>\n",
       "    </tr>\n",
       "    <tr>\n",
       "      <th>2</th>\n",
       "      <td>1</td>\n",
       "      <td>1</td>\n",
       "      <td>Cumings, Mrs. John Bradley (Florence Briggs Th...</td>\n",
       "      <td>female</td>\n",
       "      <td>38.0</td>\n",
       "      <td>1</td>\n",
       "      <td>0</td>\n",
       "      <td>PC 17599</td>\n",
       "      <td>71.2833</td>\n",
       "      <td>C85</td>\n",
       "      <td>C</td>\n",
       "    </tr>\n",
       "    <tr>\n",
       "      <th>3</th>\n",
       "      <td>1</td>\n",
       "      <td>3</td>\n",
       "      <td>Heikkinen, Miss. Laina</td>\n",
       "      <td>female</td>\n",
       "      <td>26.0</td>\n",
       "      <td>0</td>\n",
       "      <td>0</td>\n",
       "      <td>STON/O2. 3101282</td>\n",
       "      <td>7.9250</td>\n",
       "      <td>NaN</td>\n",
       "      <td>S</td>\n",
       "    </tr>\n",
       "    <tr>\n",
       "      <th>4</th>\n",
       "      <td>1</td>\n",
       "      <td>1</td>\n",
       "      <td>Futrelle, Mrs. Jacques Heath (Lily May Peel)</td>\n",
       "      <td>female</td>\n",
       "      <td>35.0</td>\n",
       "      <td>1</td>\n",
       "      <td>0</td>\n",
       "      <td>113803</td>\n",
       "      <td>53.1000</td>\n",
       "      <td>C123</td>\n",
       "      <td>S</td>\n",
       "    </tr>\n",
       "    <tr>\n",
       "      <th>5</th>\n",
       "      <td>0</td>\n",
       "      <td>3</td>\n",
       "      <td>Allen, Mr. William Henry</td>\n",
       "      <td>male</td>\n",
       "      <td>35.0</td>\n",
       "      <td>0</td>\n",
       "      <td>0</td>\n",
       "      <td>373450</td>\n",
       "      <td>8.0500</td>\n",
       "      <td>NaN</td>\n",
       "      <td>S</td>\n",
       "    </tr>\n",
       "  </tbody>\n",
       "</table>\n",
       "</div>"
      ],
      "text/plain": [
       "             Survived  Pclass  \\\n",
       "PassengerId                     \n",
       "1                   0       3   \n",
       "2                   1       1   \n",
       "3                   1       3   \n",
       "4                   1       1   \n",
       "5                   0       3   \n",
       "\n",
       "                                                          Name     Sex   Age  \\\n",
       "PassengerId                                                                    \n",
       "1                                      Braund, Mr. Owen Harris    male  22.0   \n",
       "2            Cumings, Mrs. John Bradley (Florence Briggs Th...  female  38.0   \n",
       "3                                       Heikkinen, Miss. Laina  female  26.0   \n",
       "4                 Futrelle, Mrs. Jacques Heath (Lily May Peel)  female  35.0   \n",
       "5                                     Allen, Mr. William Henry    male  35.0   \n",
       "\n",
       "             SibSp  Parch            Ticket     Fare Cabin Embarked  \n",
       "PassengerId                                                          \n",
       "1                1      0         A/5 21171   7.2500   NaN        S  \n",
       "2                1      0          PC 17599  71.2833   C85        C  \n",
       "3                0      0  STON/O2. 3101282   7.9250   NaN        S  \n",
       "4                1      0            113803  53.1000  C123        S  \n",
       "5                0      0            373450   8.0500   NaN        S  "
      ]
     },
     "execution_count": 68,
     "metadata": {},
     "output_type": "execute_result"
    }
   ],
   "source": [
    "titanic = pd.read_csv(url, index_col='PassengerId', na_values=['NaN'])\n",
    "titanic.head()"
   ]
  },
  {
   "cell_type": "code",
   "execution_count": 69,
   "metadata": {},
   "outputs": [
    {
     "data": {
      "text/plain": [
       "(891, 11)"
      ]
     },
     "execution_count": 69,
     "metadata": {},
     "output_type": "execute_result"
    }
   ],
   "source": [
    "titanic.shape"
   ]
  },
  {
   "cell_type": "markdown",
   "metadata": {},
   "source": [
    "##### Exploring the data"
   ]
  },
  {
   "cell_type": "code",
   "execution_count": 70,
   "metadata": {
    "scrolled": true
   },
   "outputs": [
    {
     "data": {
      "text/plain": [
       "Survived      0\n",
       "Pclass        0\n",
       "Name          0\n",
       "Sex           0\n",
       "Age         177\n",
       "SibSp         0\n",
       "Parch         0\n",
       "Ticket        0\n",
       "Fare          0\n",
       "Cabin       687\n",
       "Embarked      2\n",
       "dtype: int64"
      ]
     },
     "execution_count": 70,
     "metadata": {},
     "output_type": "execute_result"
    }
   ],
   "source": [
    "titanic.isnull().sum()"
   ]
  },
  {
   "cell_type": "markdown",
   "metadata": {},
   "source": [
    "We will need to make an imputation job for `Age`"
   ]
  },
  {
   "cell_type": "code",
   "execution_count": 71,
   "metadata": {},
   "outputs": [],
   "source": [
    "titanic.drop(['Cabin', 'Name', 'Ticket'], axis=1, inplace=True)"
   ]
  },
  {
   "cell_type": "markdown",
   "metadata": {},
   "source": [
    "First, let's get dummies"
   ]
  },
  {
   "cell_type": "code",
   "execution_count": 72,
   "metadata": {},
   "outputs": [],
   "source": [
    "to_dummies = ['Embarked']\n",
    "to_one_two = ['Sex']"
   ]
  },
  {
   "cell_type": "code",
   "execution_count": 73,
   "metadata": {},
   "outputs": [],
   "source": [
    "for item in to_dummies:\n",
    "    dummies = pd.get_dummies(titanic[item], prefix_sep=': ', prefix=item)\n",
    "    titanic = titanic.drop(item, axis=1)\n",
    "    titanic = pd.concat([titanic, dummies], sort=False, axis=1)\n",
    "    \n",
    "for item in to_one_two:\n",
    "    dummies = pd.get_dummies(titanic[item], prefix_sep=': ', drop_first=True)\n",
    "    titanic = titanic.drop(item, axis=1)\n",
    "    titanic = pd.concat([titanic, dummies], sort=False, axis=1)"
   ]
  },
  {
   "cell_type": "code",
   "execution_count": 74,
   "metadata": {
    "scrolled": true
   },
   "outputs": [
    {
     "data": {
      "text/html": [
       "<div>\n",
       "<style scoped>\n",
       "    .dataframe tbody tr th:only-of-type {\n",
       "        vertical-align: middle;\n",
       "    }\n",
       "\n",
       "    .dataframe tbody tr th {\n",
       "        vertical-align: top;\n",
       "    }\n",
       "\n",
       "    .dataframe thead th {\n",
       "        text-align: right;\n",
       "    }\n",
       "</style>\n",
       "<table border=\"1\" class=\"dataframe\">\n",
       "  <thead>\n",
       "    <tr style=\"text-align: right;\">\n",
       "      <th></th>\n",
       "      <th>Survived</th>\n",
       "      <th>Pclass</th>\n",
       "      <th>Age</th>\n",
       "      <th>SibSp</th>\n",
       "      <th>Parch</th>\n",
       "      <th>Fare</th>\n",
       "      <th>Embarked: C</th>\n",
       "      <th>Embarked: Q</th>\n",
       "      <th>Embarked: S</th>\n",
       "      <th>male</th>\n",
       "    </tr>\n",
       "    <tr>\n",
       "      <th>PassengerId</th>\n",
       "      <th></th>\n",
       "      <th></th>\n",
       "      <th></th>\n",
       "      <th></th>\n",
       "      <th></th>\n",
       "      <th></th>\n",
       "      <th></th>\n",
       "      <th></th>\n",
       "      <th></th>\n",
       "      <th></th>\n",
       "    </tr>\n",
       "  </thead>\n",
       "  <tbody>\n",
       "    <tr>\n",
       "      <th>1</th>\n",
       "      <td>0</td>\n",
       "      <td>3</td>\n",
       "      <td>22.0</td>\n",
       "      <td>1</td>\n",
       "      <td>0</td>\n",
       "      <td>7.2500</td>\n",
       "      <td>0</td>\n",
       "      <td>0</td>\n",
       "      <td>1</td>\n",
       "      <td>1</td>\n",
       "    </tr>\n",
       "    <tr>\n",
       "      <th>2</th>\n",
       "      <td>1</td>\n",
       "      <td>1</td>\n",
       "      <td>38.0</td>\n",
       "      <td>1</td>\n",
       "      <td>0</td>\n",
       "      <td>71.2833</td>\n",
       "      <td>1</td>\n",
       "      <td>0</td>\n",
       "      <td>0</td>\n",
       "      <td>0</td>\n",
       "    </tr>\n",
       "    <tr>\n",
       "      <th>3</th>\n",
       "      <td>1</td>\n",
       "      <td>3</td>\n",
       "      <td>26.0</td>\n",
       "      <td>0</td>\n",
       "      <td>0</td>\n",
       "      <td>7.9250</td>\n",
       "      <td>0</td>\n",
       "      <td>0</td>\n",
       "      <td>1</td>\n",
       "      <td>0</td>\n",
       "    </tr>\n",
       "    <tr>\n",
       "      <th>4</th>\n",
       "      <td>1</td>\n",
       "      <td>1</td>\n",
       "      <td>35.0</td>\n",
       "      <td>1</td>\n",
       "      <td>0</td>\n",
       "      <td>53.1000</td>\n",
       "      <td>0</td>\n",
       "      <td>0</td>\n",
       "      <td>1</td>\n",
       "      <td>0</td>\n",
       "    </tr>\n",
       "    <tr>\n",
       "      <th>5</th>\n",
       "      <td>0</td>\n",
       "      <td>3</td>\n",
       "      <td>35.0</td>\n",
       "      <td>0</td>\n",
       "      <td>0</td>\n",
       "      <td>8.0500</td>\n",
       "      <td>0</td>\n",
       "      <td>0</td>\n",
       "      <td>1</td>\n",
       "      <td>1</td>\n",
       "    </tr>\n",
       "  </tbody>\n",
       "</table>\n",
       "</div>"
      ],
      "text/plain": [
       "             Survived  Pclass   Age  SibSp  Parch     Fare  Embarked: C  \\\n",
       "PassengerId                                                               \n",
       "1                   0       3  22.0      1      0   7.2500            0   \n",
       "2                   1       1  38.0      1      0  71.2833            1   \n",
       "3                   1       3  26.0      0      0   7.9250            0   \n",
       "4                   1       1  35.0      1      0  53.1000            0   \n",
       "5                   0       3  35.0      0      0   8.0500            0   \n",
       "\n",
       "             Embarked: Q  Embarked: S  male  \n",
       "PassengerId                                  \n",
       "1                      0            1     1  \n",
       "2                      0            0     0  \n",
       "3                      0            1     0  \n",
       "4                      0            1     0  \n",
       "5                      0            1     1  "
      ]
     },
     "execution_count": 74,
     "metadata": {},
     "output_type": "execute_result"
    }
   ],
   "source": [
    "titanic.head()"
   ]
  },
  {
   "cell_type": "markdown",
   "metadata": {},
   "source": [
    "##### Imputing age with linear regression"
   ]
  },
  {
   "cell_type": "code",
   "execution_count": 75,
   "metadata": {},
   "outputs": [
    {
     "data": {
      "text/plain": [
       "['Survived',\n",
       " 'Pclass',\n",
       " 'SibSp',\n",
       " 'Parch',\n",
       " 'Fare',\n",
       " 'Embarked: C',\n",
       " 'Embarked: Q',\n",
       " 'Embarked: S',\n",
       " 'male']"
      ]
     },
     "execution_count": 75,
     "metadata": {},
     "output_type": "execute_result"
    }
   ],
   "source": [
    "to_dropna = titanic.columns.tolist()\n",
    "to_dropna.remove('Age')\n",
    "to_dropna"
   ]
  },
  {
   "cell_type": "code",
   "execution_count": 76,
   "metadata": {},
   "outputs": [],
   "source": [
    "titanic_dropna = titanic.dropna(subset=to_dropna, axis=0)\n",
    "test = titanic_dropna.loc[titanic_dropna.Age.isnull()].drop('Age', axis=1)\n",
    "train = titanic_dropna.loc[titanic_dropna.Age.notnull()]"
   ]
  },
  {
   "cell_type": "markdown",
   "metadata": {},
   "source": [
    "Test dataframe contains all passengers with missing age"
   ]
  },
  {
   "cell_type": "code",
   "execution_count": 77,
   "metadata": {},
   "outputs": [
    {
     "data": {
      "text/plain": [
       "(177, 9)"
      ]
     },
     "execution_count": 77,
     "metadata": {},
     "output_type": "execute_result"
    }
   ],
   "source": [
    "test.shape"
   ]
  },
  {
   "cell_type": "code",
   "execution_count": 78,
   "metadata": {},
   "outputs": [
    {
     "data": {
      "text/plain": [
       "array([32., 31., 21., 28., 26., 30., 32., 26., 21., 28.])"
      ]
     },
     "execution_count": 78,
     "metadata": {},
     "output_type": "execute_result"
    }
   ],
   "source": [
    "lin_reg = LinearRegression()\n",
    "lin_reg.fit(train.drop('Age', axis=1), train.Age)\n",
    "y_pred = np.abs(np.ceil(lin_reg.predict(test)))\n",
    "y_pred[:10]"
   ]
  },
  {
   "cell_type": "code",
   "execution_count": 79,
   "metadata": {},
   "outputs": [],
   "source": [
    "titanic.loc[titanic.Age.isnull(), 'Age'] = y_pred"
   ]
  },
  {
   "cell_type": "code",
   "execution_count": 80,
   "metadata": {
    "scrolled": true
   },
   "outputs": [
    {
     "name": "stdout",
     "output_type": "stream",
     "text": [
      "<class 'pandas.core.frame.DataFrame'>\n",
      "Int64Index: 891 entries, 1 to 891\n",
      "Data columns (total 10 columns):\n",
      "Survived       891 non-null int64\n",
      "Pclass         891 non-null int64\n",
      "Age            891 non-null float64\n",
      "Sibsp          891 non-null int64\n",
      "Parch          891 non-null int64\n",
      "Fare           891 non-null float64\n",
      "Embarked: C    891 non-null uint8\n",
      "Embarked: Q    891 non-null uint8\n",
      "Embarked: S    891 non-null uint8\n",
      "Male           891 non-null uint8\n",
      "dtypes: float64(2), int64(4), uint8(4)\n",
      "memory usage: 52.2 KB\n"
     ]
    }
   ],
   "source": [
    "titanic.columns = titanic.columns.str.title()\n",
    "titanic.info()"
   ]
  },
  {
   "cell_type": "markdown",
   "metadata": {},
   "source": [
    "Now the dataset does not have any missing values! "
   ]
  },
  {
   "cell_type": "markdown",
   "metadata": {},
   "source": [
    "##### Preliminary analysis"
   ]
  },
  {
   "cell_type": "code",
   "execution_count": 81,
   "metadata": {},
   "outputs": [
    {
     "data": {
      "text/html": [
       "<div>\n",
       "<style scoped>\n",
       "    .dataframe tbody tr th:only-of-type {\n",
       "        vertical-align: middle;\n",
       "    }\n",
       "\n",
       "    .dataframe tbody tr th {\n",
       "        vertical-align: top;\n",
       "    }\n",
       "\n",
       "    .dataframe thead th {\n",
       "        text-align: right;\n",
       "    }\n",
       "</style>\n",
       "<table border=\"1\" class=\"dataframe\">\n",
       "  <thead>\n",
       "    <tr style=\"text-align: right;\">\n",
       "      <th></th>\n",
       "      <th>Survived</th>\n",
       "      <th>Pclass</th>\n",
       "      <th>Age</th>\n",
       "      <th>Sibsp</th>\n",
       "      <th>Parch</th>\n",
       "      <th>Fare</th>\n",
       "      <th>Embarked: C</th>\n",
       "      <th>Embarked: Q</th>\n",
       "      <th>Embarked: S</th>\n",
       "      <th>Male</th>\n",
       "    </tr>\n",
       "  </thead>\n",
       "  <tbody>\n",
       "    <tr>\n",
       "      <th>Survived</th>\n",
       "      <td>1.000000</td>\n",
       "      <td>-0.338481</td>\n",
       "      <td>-0.086301</td>\n",
       "      <td>-0.035322</td>\n",
       "      <td>0.081629</td>\n",
       "      <td>0.257307</td>\n",
       "      <td>0.168240</td>\n",
       "      <td>0.003650</td>\n",
       "      <td>-0.155660</td>\n",
       "      <td>-0.543351</td>\n",
       "    </tr>\n",
       "    <tr>\n",
       "      <th>Pclass</th>\n",
       "      <td>-0.338481</td>\n",
       "      <td>1.000000</td>\n",
       "      <td>-0.397047</td>\n",
       "      <td>0.083081</td>\n",
       "      <td>0.018443</td>\n",
       "      <td>-0.549500</td>\n",
       "      <td>-0.243292</td>\n",
       "      <td>0.221009</td>\n",
       "      <td>0.081720</td>\n",
       "      <td>0.131900</td>\n",
       "    </tr>\n",
       "    <tr>\n",
       "      <th>Age</th>\n",
       "      <td>-0.086301</td>\n",
       "      <td>-0.397047</td>\n",
       "      <td>1.000000</td>\n",
       "      <td>-0.350000</td>\n",
       "      <td>-0.217845</td>\n",
       "      <td>0.091635</td>\n",
       "      <td>0.030046</td>\n",
       "      <td>-0.030869</td>\n",
       "      <td>-0.014445</td>\n",
       "      <td>0.115995</td>\n",
       "    </tr>\n",
       "    <tr>\n",
       "      <th>Sibsp</th>\n",
       "      <td>-0.035322</td>\n",
       "      <td>0.083081</td>\n",
       "      <td>-0.350000</td>\n",
       "      <td>1.000000</td>\n",
       "      <td>0.414838</td>\n",
       "      <td>0.159651</td>\n",
       "      <td>-0.059528</td>\n",
       "      <td>-0.026354</td>\n",
       "      <td>0.070941</td>\n",
       "      <td>-0.114631</td>\n",
       "    </tr>\n",
       "    <tr>\n",
       "      <th>Parch</th>\n",
       "      <td>0.081629</td>\n",
       "      <td>0.018443</td>\n",
       "      <td>-0.217845</td>\n",
       "      <td>0.414838</td>\n",
       "      <td>1.000000</td>\n",
       "      <td>0.216225</td>\n",
       "      <td>-0.011069</td>\n",
       "      <td>-0.081228</td>\n",
       "      <td>0.063036</td>\n",
       "      <td>-0.245489</td>\n",
       "    </tr>\n",
       "    <tr>\n",
       "      <th>Fare</th>\n",
       "      <td>0.257307</td>\n",
       "      <td>-0.549500</td>\n",
       "      <td>0.091635</td>\n",
       "      <td>0.159651</td>\n",
       "      <td>0.216225</td>\n",
       "      <td>1.000000</td>\n",
       "      <td>0.269335</td>\n",
       "      <td>-0.117216</td>\n",
       "      <td>-0.166603</td>\n",
       "      <td>-0.182333</td>\n",
       "    </tr>\n",
       "    <tr>\n",
       "      <th>Embarked: C</th>\n",
       "      <td>0.168240</td>\n",
       "      <td>-0.243292</td>\n",
       "      <td>0.030046</td>\n",
       "      <td>-0.059528</td>\n",
       "      <td>-0.011069</td>\n",
       "      <td>0.269335</td>\n",
       "      <td>1.000000</td>\n",
       "      <td>-0.148258</td>\n",
       "      <td>-0.778359</td>\n",
       "      <td>-0.082853</td>\n",
       "    </tr>\n",
       "    <tr>\n",
       "      <th>Embarked: Q</th>\n",
       "      <td>0.003650</td>\n",
       "      <td>0.221009</td>\n",
       "      <td>-0.030869</td>\n",
       "      <td>-0.026354</td>\n",
       "      <td>-0.081228</td>\n",
       "      <td>-0.117216</td>\n",
       "      <td>-0.148258</td>\n",
       "      <td>1.000000</td>\n",
       "      <td>-0.496624</td>\n",
       "      <td>-0.074115</td>\n",
       "    </tr>\n",
       "    <tr>\n",
       "      <th>Embarked: S</th>\n",
       "      <td>-0.155660</td>\n",
       "      <td>0.081720</td>\n",
       "      <td>-0.014445</td>\n",
       "      <td>0.070941</td>\n",
       "      <td>0.063036</td>\n",
       "      <td>-0.166603</td>\n",
       "      <td>-0.778359</td>\n",
       "      <td>-0.496624</td>\n",
       "      <td>1.000000</td>\n",
       "      <td>0.125722</td>\n",
       "    </tr>\n",
       "    <tr>\n",
       "      <th>Male</th>\n",
       "      <td>-0.543351</td>\n",
       "      <td>0.131900</td>\n",
       "      <td>0.115995</td>\n",
       "      <td>-0.114631</td>\n",
       "      <td>-0.245489</td>\n",
       "      <td>-0.182333</td>\n",
       "      <td>-0.082853</td>\n",
       "      <td>-0.074115</td>\n",
       "      <td>0.125722</td>\n",
       "      <td>1.000000</td>\n",
       "    </tr>\n",
       "  </tbody>\n",
       "</table>\n",
       "</div>"
      ],
      "text/plain": [
       "             Survived    Pclass       Age     Sibsp     Parch      Fare  \\\n",
       "Survived     1.000000 -0.338481 -0.086301 -0.035322  0.081629  0.257307   \n",
       "Pclass      -0.338481  1.000000 -0.397047  0.083081  0.018443 -0.549500   \n",
       "Age         -0.086301 -0.397047  1.000000 -0.350000 -0.217845  0.091635   \n",
       "Sibsp       -0.035322  0.083081 -0.350000  1.000000  0.414838  0.159651   \n",
       "Parch        0.081629  0.018443 -0.217845  0.414838  1.000000  0.216225   \n",
       "Fare         0.257307 -0.549500  0.091635  0.159651  0.216225  1.000000   \n",
       "Embarked: C  0.168240 -0.243292  0.030046 -0.059528 -0.011069  0.269335   \n",
       "Embarked: Q  0.003650  0.221009 -0.030869 -0.026354 -0.081228 -0.117216   \n",
       "Embarked: S -0.155660  0.081720 -0.014445  0.070941  0.063036 -0.166603   \n",
       "Male        -0.543351  0.131900  0.115995 -0.114631 -0.245489 -0.182333   \n",
       "\n",
       "             Embarked: C  Embarked: Q  Embarked: S      Male  \n",
       "Survived        0.168240     0.003650    -0.155660 -0.543351  \n",
       "Pclass         -0.243292     0.221009     0.081720  0.131900  \n",
       "Age             0.030046    -0.030869    -0.014445  0.115995  \n",
       "Sibsp          -0.059528    -0.026354     0.070941 -0.114631  \n",
       "Parch          -0.011069    -0.081228     0.063036 -0.245489  \n",
       "Fare            0.269335    -0.117216    -0.166603 -0.182333  \n",
       "Embarked: C     1.000000    -0.148258    -0.778359 -0.082853  \n",
       "Embarked: Q    -0.148258     1.000000    -0.496624 -0.074115  \n",
       "Embarked: S    -0.778359    -0.496624     1.000000  0.125722  \n",
       "Male           -0.082853    -0.074115     0.125722  1.000000  "
      ]
     },
     "execution_count": 81,
     "metadata": {},
     "output_type": "execute_result"
    }
   ],
   "source": [
    "titanic.corr()"
   ]
  },
  {
   "cell_type": "code",
   "execution_count": 82,
   "metadata": {},
   "outputs": [
    {
     "data": {
      "image/png": "[encoded data removed]",
      "text/plain": [
       "<Figure size 432x288 with 1 Axes>"
      ]
     },
     "metadata": {
      "needs_background": "light"
     },
     "output_type": "display_data"
    }
   ],
   "source": [
    "sns.heatmap(titanic.corr(), cbar=False, annot=True)\n",
    "title = plt.title('Correlation Heatmap')"
   ]
  },
  {
   "cell_type": "markdown",
   "metadata": {},
   "source": [
    "##### Preparing the data"
   ]
  },
  {
   "cell_type": "code",
   "execution_count": 83,
   "metadata": {},
   "outputs": [],
   "source": [
    "X = titanic.drop('Survived', axis=1)\n",
    "y = titanic['Survived']"
   ]
  },
  {
   "cell_type": "code",
   "execution_count": 84,
   "metadata": {},
   "outputs": [],
   "source": [
    "X_train, X_test, y_train, y_test = train_test_split(X, y, test_size=2e-1)"
   ]
  },
  {
   "cell_type": "markdown",
   "metadata": {},
   "source": [
    "### Predicting survival"
   ]
  },
  {
   "cell_type": "markdown",
   "metadata": {},
   "source": [
    "##### Logistic regression"
   ]
  },
  {
   "cell_type": "code",
   "execution_count": 85,
   "metadata": {},
   "outputs": [
    {
     "data": {
      "text/plain": [
       "0.888268156424581"
      ]
     },
     "execution_count": 85,
     "metadata": {},
     "output_type": "execute_result"
    }
   ],
   "source": [
    "logit = LogisticRegression(solver='lbfgs', max_iter=1e5)\n",
    "logit.fit(X_train, y_train)\n",
    "y_pred = logit.predict(X_test)\n",
    "accuracy_score(y_test, y_pred)"
   ]
  },
  {
   "cell_type": "markdown",
   "metadata": {},
   "source": [
    "##### SVM"
   ]
  },
  {
   "cell_type": "code",
   "execution_count": 86,
   "metadata": {},
   "outputs": [
    {
     "data": {
      "text/plain": [
       "0.7597765363128491"
      ]
     },
     "execution_count": 86,
     "metadata": {},
     "output_type": "execute_result"
    }
   ],
   "source": [
    "svc = SVC(gamma='auto')\n",
    "svc.fit(X_train, y_train)\n",
    "y_pred = svc.predict(X_test)\n",
    "accuracy_score(y_test, y_pred)"
   ]
  },
  {
   "cell_type": "code",
   "execution_count": 87,
   "metadata": {
    "scrolled": true
   },
   "outputs": [
    {
     "name": "stderr",
     "output_type": "stream",
     "text": [
      "C:\\Users\\Nicolas\\Miniconda3\\envs\\tfenv\\lib\\site-packages\\sklearn\\model_selection\\_search.py:271: UserWarning: The total space of parameters 4 is smaller than n_iter=100000. Running 4 iterations. For exhaustive searches, use GridSearchCV.\n",
      "  % (grid_size, self.n_iter, grid_size), UserWarning)\n"
     ]
    },
    {
     "data": {
      "text/plain": [
       "SVC(C=100, cache_size=200, class_weight=None, coef0=0.0,\n",
       "  decision_function_shape='ovr', degree=3, gamma=1e-06, kernel='rbf',\n",
       "  max_iter=-1, probability=False, random_state=None, shrinking=True,\n",
       "  tol=0.001, verbose=False)"
      ]
     },
     "execution_count": 87,
     "metadata": {},
     "output_type": "execute_result"
    }
   ],
   "source": [
    "svc_search = RandomizedSearchCV(svc, {'C':[0.1, 100], 'gamma':[0.000001, 10]}, n_jobs=-1, cv=5, n_iter=1e5)\n",
    "svc_search.fit(X_train, y_train)\n",
    "svc_search.best_estimator_"
   ]
  },
  {
   "cell_type": "code",
   "execution_count": 88,
   "metadata": {},
   "outputs": [
    {
     "data": {
      "text/plain": [
       "0.7039106145251397"
      ]
     },
     "execution_count": 88,
     "metadata": {},
     "output_type": "execute_result"
    }
   ],
   "source": [
    "y_pred = svc_search.best_estimator_.predict(X_test)\n",
    "accuracy_score(y_test, y_pred)"
   ]
  },
  {
   "cell_type": "markdown",
   "metadata": {},
   "source": [
    "##### Neural network"
   ]
  },
  {
   "cell_type": "markdown",
   "metadata": {},
   "source": [
    "Preparing the data"
   ]
  },
  {
   "cell_type": "code",
   "execution_count": 89,
   "metadata": {},
   "outputs": [
    {
     "name": "stderr",
     "output_type": "stream",
     "text": [
      "C:\\Users\\Nicolas\\Miniconda3\\envs\\tfenv\\lib\\site-packages\\sklearn\\preprocessing\\data.py:334: DataConversionWarning: Data with input dtype uint8, int64, float64 were all converted to float64 by MinMaxScaler.\n",
      "  return self.partial_fit(X, y)\n"
     ]
    }
   ],
   "source": [
    "scaler = MinMaxScaler()\n",
    "X_train = scaler.fit_transform(X_train)\n",
    "X_test = scaler.transform(X_test)"
   ]
  },
  {
   "cell_type": "code",
   "execution_count": 90,
   "metadata": {},
   "outputs": [],
   "source": [
    "model = Sequential([\n",
    "    Dense(6, input_shape=(X_train.shape[1],)),\n",
    "    Dense(12, activation='relu'),\n",
    "    Dense(36, activation='relu'),\n",
    "    Dense(64, activation='relu'),\n",
    "    Dense(128, activation='relu'),\n",
    "    Dropout(0.2),\n",
    "    Dense(12, activation='relu'),\n",
    "    Dense(1, activation='sigmoid')\n",
    "])"
   ]
  },
  {
   "cell_type": "code",
   "execution_count": 91,
   "metadata": {},
   "outputs": [],
   "source": [
    "model.compile(optimizer='adam', loss='binary_crossentropy', metrics=['accuracy'])"
   ]
  },
  {
   "cell_type": "code",
   "execution_count": 92,
   "metadata": {},
   "outputs": [
    {
     "name": "stdout",
     "output_type": "stream",
     "text": [
      "Train on 712 samples, validate on 179 samples\n",
      "Epoch 1/200\n",
      "712/712 [==============================] - 1s 941us/sample - loss: 0.6014 - accuracy: 0.7121 - val_loss: 0.4296 - val_accuracy: 0.8268\n",
      "Epoch 2/200\n",
      "712/712 [==============================] - 0s 310us/sample - loss: 0.5083 - accuracy: 0.7753 - val_loss: 0.3965 - val_accuracy: 0.8380\n",
      "Epoch 3/200\n",
      "712/712 [==============================] - 0s 286us/sample - loss: 0.4795 - accuracy: 0.7935 - val_loss: 0.3887 - val_accuracy: 0.8492\n",
      "Epoch 4/200\n",
      "712/712 [==============================] - 0s 287us/sample - loss: 0.4746 - accuracy: 0.7935 - val_loss: 0.3726 - val_accuracy: 0.8492\n",
      "Epoch 5/200\n",
      "712/712 [==============================] - 0s 293us/sample - loss: 0.4688 - accuracy: 0.7963 - val_loss: 0.3748 - val_accuracy: 0.8492\n",
      "Epoch 6/200\n",
      "712/712 [==============================] - 0s 279us/sample - loss: 0.4668 - accuracy: 0.7992 - val_loss: 0.3729 - val_accuracy: 0.8436\n",
      "Epoch 7/200\n",
      "712/712 [==============================] - 0s 308us/sample - loss: 0.4611 - accuracy: 0.8006 - val_loss: 0.3730 - val_accuracy: 0.8380\n",
      "Epoch 8/200\n",
      "712/712 [==============================] - 0s 282us/sample - loss: 0.4511 - accuracy: 0.7978 - val_loss: 0.3534 - val_accuracy: 0.8380\n",
      "Epoch 9/200\n",
      "712/712 [==============================] - 0s 291us/sample - loss: 0.4581 - accuracy: 0.8006 - val_loss: 0.3682 - val_accuracy: 0.8492\n",
      "Epoch 10/200\n",
      "712/712 [==============================] - 0s 294us/sample - loss: 0.4511 - accuracy: 0.8034 - val_loss: 0.3406 - val_accuracy: 0.8603\n",
      "Epoch 11/200\n",
      "712/712 [==============================] - 0s 287us/sample - loss: 0.4442 - accuracy: 0.8020 - val_loss: 0.3613 - val_accuracy: 0.9050\n",
      "Epoch 12/200\n",
      "712/712 [==============================] - 0s 311us/sample - loss: 0.4477 - accuracy: 0.8020 - val_loss: 0.3398 - val_accuracy: 0.8492\n",
      "Epoch 13/200\n",
      "712/712 [==============================] - 0s 296us/sample - loss: 0.4521 - accuracy: 0.8020 - val_loss: 0.3374 - val_accuracy: 0.8659\n",
      "Epoch 14/200\n",
      "712/712 [==============================] - 0s 289us/sample - loss: 0.4446 - accuracy: 0.8006 - val_loss: 0.3261 - val_accuracy: 0.8603\n",
      "Epoch 15/200\n",
      "712/712 [==============================] - 0s 287us/sample - loss: 0.4443 - accuracy: 0.8104 - val_loss: 0.3308 - val_accuracy: 0.8603\n",
      "Epoch 16/200\n",
      "712/712 [==============================] - 0s 294us/sample - loss: 0.4349 - accuracy: 0.8090 - val_loss: 0.3401 - val_accuracy: 0.8771\n",
      "Epoch 17/200\n",
      "712/712 [==============================] - 0s 279us/sample - loss: 0.4409 - accuracy: 0.8090 - val_loss: 0.3292 - val_accuracy: 0.8827\n",
      "Epoch 18/200\n",
      "712/712 [==============================] - 0s 290us/sample - loss: 0.4374 - accuracy: 0.8062 - val_loss: 0.3266 - val_accuracy: 0.8827\n",
      "Epoch 19/200\n",
      "712/712 [==============================] - 0s 277us/sample - loss: 0.4334 - accuracy: 0.8048 - val_loss: 0.3125 - val_accuracy: 0.8939\n",
      "Epoch 20/200\n",
      "712/712 [==============================] - 0s 279us/sample - loss: 0.4255 - accuracy: 0.8188 - val_loss: 0.3140 - val_accuracy: 0.8827\n",
      "Epoch 21/200\n",
      "712/712 [==============================] - 0s 277us/sample - loss: 0.4261 - accuracy: 0.8104 - val_loss: 0.3211 - val_accuracy: 0.8827\n",
      "Epoch 22/200\n",
      "712/712 [==============================] - 0s 279us/sample - loss: 0.4207 - accuracy: 0.8216 - val_loss: 0.3086 - val_accuracy: 0.8827\n",
      "Epoch 23/200\n",
      "712/712 [==============================] - 0s 277us/sample - loss: 0.4240 - accuracy: 0.8160 - val_loss: 0.3360 - val_accuracy: 0.8939\n",
      "Epoch 24/200\n",
      "712/712 [==============================] - 0s 280us/sample - loss: 0.4239 - accuracy: 0.8174 - val_loss: 0.2940 - val_accuracy: 0.8883\n",
      "Epoch 25/200\n",
      "712/712 [==============================] - 0s 280us/sample - loss: 0.4219 - accuracy: 0.8132 - val_loss: 0.3061 - val_accuracy: 0.8827\n",
      "Epoch 26/200\n",
      "712/712 [==============================] - 0s 322us/sample - loss: 0.4227 - accuracy: 0.8216 - val_loss: 0.3072 - val_accuracy: 0.8827\n",
      "Epoch 27/200\n",
      "712/712 [==============================] - 0s 332us/sample - loss: 0.4245 - accuracy: 0.8216 - val_loss: 0.2942 - val_accuracy: 0.8994\n",
      "Epoch 28/200\n",
      "712/712 [==============================] - 0s 340us/sample - loss: 0.4171 - accuracy: 0.8230 - val_loss: 0.3267 - val_accuracy: 0.9050\n",
      "Epoch 29/200\n",
      "712/712 [==============================] - 0s 333us/sample - loss: 0.4137 - accuracy: 0.8230 - val_loss: 0.3182 - val_accuracy: 0.8994\n",
      "Epoch 30/200\n",
      "712/712 [==============================] - 0s 324us/sample - loss: 0.4172 - accuracy: 0.8132 - val_loss: 0.2998 - val_accuracy: 0.8939\n",
      "Epoch 31/200\n",
      "712/712 [==============================] - 0s 402us/sample - loss: 0.4119 - accuracy: 0.8146 - val_loss: 0.3105 - val_accuracy: 0.8883\n",
      "Epoch 32/200\n",
      "712/712 [==============================] - 0s 332us/sample - loss: 0.4152 - accuracy: 0.8315 - val_loss: 0.3033 - val_accuracy: 0.8827\n",
      "Epoch 33/200\n",
      "712/712 [==============================] - 0s 289us/sample - loss: 0.4176 - accuracy: 0.8230 - val_loss: 0.3026 - val_accuracy: 0.8883\n",
      "Epoch 34/200\n",
      "712/712 [==============================] - 0s 272us/sample - loss: 0.4135 - accuracy: 0.8132 - val_loss: 0.2934 - val_accuracy: 0.8994\n",
      "Epoch 35/200\n",
      "712/712 [==============================] - 0s 284us/sample - loss: 0.4076 - accuracy: 0.8230 - val_loss: 0.3188 - val_accuracy: 0.8827\n",
      "Epoch 36/200\n",
      "712/712 [==============================] - 0s 280us/sample - loss: 0.4055 - accuracy: 0.8132 - val_loss: 0.3275 - val_accuracy: 0.8939\n",
      "Epoch 37/200\n",
      "712/712 [==============================] - 0s 283us/sample - loss: 0.4115 - accuracy: 0.8174 - val_loss: 0.3064 - val_accuracy: 0.8827\n",
      "Epoch 38/200\n",
      "712/712 [==============================] - 0s 283us/sample - loss: 0.4007 - accuracy: 0.8244 - val_loss: 0.3073 - val_accuracy: 0.8994\n",
      "Epoch 39/200\n",
      "712/712 [==============================] - 0s 283us/sample - loss: 0.3988 - accuracy: 0.8216 - val_loss: 0.3180 - val_accuracy: 0.8939\n",
      "Epoch 40/200\n",
      "712/712 [==============================] - 0s 286us/sample - loss: 0.4056 - accuracy: 0.8244 - val_loss: 0.3175 - val_accuracy: 0.8827\n",
      "Epoch 41/200\n",
      "712/712 [==============================] - 0s 283us/sample - loss: 0.4056 - accuracy: 0.8272 - val_loss: 0.3546 - val_accuracy: 0.8883\n",
      "Epoch 42/200\n",
      "712/712 [==============================] - 0s 303us/sample - loss: 0.4056 - accuracy: 0.8315 - val_loss: 0.3179 - val_accuracy: 0.8883\n",
      "Epoch 43/200\n",
      "712/712 [==============================] - 0s 326us/sample - loss: 0.4025 - accuracy: 0.8230 - val_loss: 0.3302 - val_accuracy: 0.8939\n",
      "Epoch 44/200\n",
      "712/712 [==============================] - 0s 296us/sample - loss: 0.4028 - accuracy: 0.8244 - val_loss: 0.3183 - val_accuracy: 0.8659\n",
      "Epoch 45/200\n",
      "712/712 [==============================] - 0s 304us/sample - loss: 0.4291 - accuracy: 0.8006 - val_loss: 0.3473 - val_accuracy: 0.8883\n",
      "Epoch 46/200\n",
      "712/712 [==============================] - 0s 293us/sample - loss: 0.3973 - accuracy: 0.8202 - val_loss: 0.3044 - val_accuracy: 0.8771\n",
      "Epoch 47/200\n",
      "712/712 [==============================] - 0s 303us/sample - loss: 0.4092 - accuracy: 0.8188 - val_loss: 0.3154 - val_accuracy: 0.8827\n",
      "Epoch 48/200\n",
      "712/712 [==============================] - 0s 322us/sample - loss: 0.4000 - accuracy: 0.8230 - val_loss: 0.3219 - val_accuracy: 0.8883\n",
      "Epoch 49/200\n",
      "712/712 [==============================] - 0s 286us/sample - loss: 0.4016 - accuracy: 0.8258 - val_loss: 0.3206 - val_accuracy: 0.8883\n",
      "Epoch 50/200\n",
      "712/712 [==============================] - 0s 277us/sample - loss: 0.3967 - accuracy: 0.8357 - val_loss: 0.3219 - val_accuracy: 0.8883\n",
      "Epoch 51/200\n",
      "712/712 [==============================] - 0s 289us/sample - loss: 0.3971 - accuracy: 0.8329 - val_loss: 0.3327 - val_accuracy: 0.8939\n",
      "Epoch 52/200\n",
      "712/712 [==============================] - 0s 314us/sample - loss: 0.4071 - accuracy: 0.8258 - val_loss: 0.3480 - val_accuracy: 0.8883\n",
      "Epoch 53/200\n",
      "712/712 [==============================] - 0s 321us/sample - loss: 0.3937 - accuracy: 0.8230 - val_loss: 0.3157 - val_accuracy: 0.8883\n",
      "Epoch 54/200\n",
      "712/712 [==============================] - 0s 265us/sample - loss: 0.3939 - accuracy: 0.8287 - val_loss: 0.3219 - val_accuracy: 0.8994\n",
      "Epoch 55/200\n",
      "712/712 [==============================] - 0s 266us/sample - loss: 0.3867 - accuracy: 0.8343 - val_loss: 0.3197 - val_accuracy: 0.8939\n",
      "Epoch 56/200\n"
     ]
    },
    {
     "name": "stdout",
     "output_type": "stream",
     "text": [
      "712/712 [==============================] - 0s 286us/sample - loss: 0.3927 - accuracy: 0.8301 - val_loss: 0.3390 - val_accuracy: 0.8827\n",
      "Epoch 57/200\n",
      "712/712 [==============================] - 0s 275us/sample - loss: 0.3848 - accuracy: 0.8301 - val_loss: 0.3038 - val_accuracy: 0.9050\n",
      "Epoch 58/200\n",
      "712/712 [==============================] - 0s 298us/sample - loss: 0.4078 - accuracy: 0.8230 - val_loss: 0.3122 - val_accuracy: 0.8994\n",
      "Epoch 59/200\n",
      "712/712 [==============================] - 0s 296us/sample - loss: 0.3897 - accuracy: 0.8427 - val_loss: 0.2976 - val_accuracy: 0.8994\n",
      "Epoch 60/200\n",
      "712/712 [==============================] - 0s 286us/sample - loss: 0.3914 - accuracy: 0.8287 - val_loss: 0.3178 - val_accuracy: 0.8994\n",
      "Epoch 61/200\n",
      "712/712 [==============================] - 0s 287us/sample - loss: 0.3870 - accuracy: 0.8287 - val_loss: 0.3201 - val_accuracy: 0.8883\n",
      "Epoch 62/200\n",
      "712/712 [==============================] - 0s 293us/sample - loss: 0.3882 - accuracy: 0.8301 - val_loss: 0.2945 - val_accuracy: 0.9050\n",
      "Epoch 63/200\n",
      "712/712 [==============================] - 0s 273us/sample - loss: 0.3857 - accuracy: 0.8315 - val_loss: 0.3043 - val_accuracy: 0.8883\n",
      "Epoch 64/200\n",
      "712/712 [==============================] - 0s 280us/sample - loss: 0.3897 - accuracy: 0.8301 - val_loss: 0.3437 - val_accuracy: 0.8715\n",
      "Epoch 65/200\n",
      "712/712 [==============================] - 0s 277us/sample - loss: 0.3913 - accuracy: 0.8287 - val_loss: 0.3235 - val_accuracy: 0.9050\n",
      "Epoch 66/200\n",
      "712/712 [==============================] - 0s 289us/sample - loss: 0.3852 - accuracy: 0.8343 - val_loss: 0.3121 - val_accuracy: 0.8939\n",
      "Epoch 67/200\n",
      "712/712 [==============================] - 0s 279us/sample - loss: 0.3898 - accuracy: 0.8329 - val_loss: 0.3371 - val_accuracy: 0.8994\n",
      "Epoch 68/200\n",
      "712/712 [==============================] - 0s 277us/sample - loss: 0.3889 - accuracy: 0.8301 - val_loss: 0.3003 - val_accuracy: 0.8939\n",
      "Epoch 69/200\n",
      "712/712 [==============================] - 0s 282us/sample - loss: 0.3999 - accuracy: 0.8287 - val_loss: 0.3071 - val_accuracy: 0.8771\n",
      "Epoch 70/200\n",
      "712/712 [==============================] - 0s 279us/sample - loss: 0.3897 - accuracy: 0.8329 - val_loss: 0.3076 - val_accuracy: 0.8883\n",
      "Epoch 71/200\n",
      "712/712 [==============================] - 0s 283us/sample - loss: 0.3858 - accuracy: 0.8329 - val_loss: 0.3263 - val_accuracy: 0.8883\n",
      "Epoch 72/200\n",
      "712/712 [==============================] - 0s 282us/sample - loss: 0.3808 - accuracy: 0.8399 - val_loss: 0.3264 - val_accuracy: 0.8883\n",
      "Epoch 73/200\n",
      "712/712 [==============================] - 0s 283us/sample - loss: 0.3805 - accuracy: 0.8287 - val_loss: 0.3355 - val_accuracy: 0.8771\n",
      "Epoch 74/200\n",
      "712/712 [==============================] - 0s 293us/sample - loss: 0.3804 - accuracy: 0.8244 - val_loss: 0.3184 - val_accuracy: 0.8994\n",
      "Epoch 75/200\n",
      "712/712 [==============================] - 0s 304us/sample - loss: 0.3783 - accuracy: 0.8315 - val_loss: 0.3232 - val_accuracy: 0.8994\n",
      "Epoch 76/200\n",
      "712/712 [==============================] - 0s 283us/sample - loss: 0.3741 - accuracy: 0.8497 - val_loss: 0.3242 - val_accuracy: 0.8939\n",
      "Epoch 77/200\n",
      "712/712 [==============================] - 0s 303us/sample - loss: 0.3743 - accuracy: 0.8329 - val_loss: 0.3087 - val_accuracy: 0.8994\n",
      "Epoch 78/200\n",
      "712/712 [==============================] - 0s 319us/sample - loss: 0.3774 - accuracy: 0.8272 - val_loss: 0.3268 - val_accuracy: 0.8994\n",
      "Epoch 79/200\n",
      "712/712 [==============================] - 0s 322us/sample - loss: 0.3680 - accuracy: 0.8441 - val_loss: 0.3522 - val_accuracy: 0.8715\n",
      "Epoch 80/200\n",
      "712/712 [==============================] - 0s 305us/sample - loss: 0.3790 - accuracy: 0.8371 - val_loss: 0.3231 - val_accuracy: 0.8939\n",
      "Epoch 81/200\n",
      "712/712 [==============================] - 0s 314us/sample - loss: 0.3795 - accuracy: 0.8343 - val_loss: 0.3110 - val_accuracy: 0.8939\n",
      "Epoch 82/200\n",
      "712/712 [==============================] - 0s 307us/sample - loss: 0.3838 - accuracy: 0.8301 - val_loss: 0.3618 - val_accuracy: 0.8659\n",
      "Epoch 83/200\n",
      "712/712 [==============================] - 0s 468us/sample - loss: 0.3708 - accuracy: 0.8230 - val_loss: 0.3085 - val_accuracy: 0.8883\n",
      "Epoch 84/200\n",
      "712/712 [==============================] - 0s 398us/sample - loss: 0.3786 - accuracy: 0.8371 - val_loss: 0.3486 - val_accuracy: 0.9050\n",
      "Epoch 85/200\n",
      "712/712 [==============================] - 0s 361us/sample - loss: 0.3699 - accuracy: 0.8469 - val_loss: 0.3513 - val_accuracy: 0.8883\n",
      "Epoch 86/200\n",
      "712/712 [==============================] - 0s 346us/sample - loss: 0.3720 - accuracy: 0.8371 - val_loss: 0.3566 - val_accuracy: 0.8883\n",
      "Epoch 87/200\n",
      "712/712 [==============================] - 0s 455us/sample - loss: 0.3720 - accuracy: 0.8272 - val_loss: 0.3372 - val_accuracy: 0.8883\n",
      "Epoch 88/200\n",
      "712/712 [==============================] - 0s 553us/sample - loss: 0.3638 - accuracy: 0.8469 - val_loss: 0.3572 - val_accuracy: 0.8771\n",
      "Epoch 89/200\n",
      "712/712 [==============================] - 0s 443us/sample - loss: 0.3696 - accuracy: 0.8371 - val_loss: 0.3489 - val_accuracy: 0.8827\n",
      "Epoch 90/200\n",
      "712/712 [==============================] - 0s 398us/sample - loss: 0.3670 - accuracy: 0.8427 - val_loss: 0.3420 - val_accuracy: 0.8994\n",
      "Epoch 91/200\n",
      "712/712 [==============================] - 0s 399us/sample - loss: 0.3743 - accuracy: 0.8427 - val_loss: 0.3662 - val_accuracy: 0.8715\n",
      "Epoch 92/200\n",
      "712/712 [==============================] - 0s 394us/sample - loss: 0.3621 - accuracy: 0.8399 - val_loss: 0.3167 - val_accuracy: 0.8994\n",
      "Epoch 93/200\n",
      "712/712 [==============================] - 0s 347us/sample - loss: 0.3653 - accuracy: 0.8455 - val_loss: 0.3448 - val_accuracy: 0.8883\n",
      "Epoch 94/200\n",
      "712/712 [==============================] - 0s 389us/sample - loss: 0.3603 - accuracy: 0.8427 - val_loss: 0.3714 - val_accuracy: 0.8771\n",
      "Epoch 95/200\n",
      "712/712 [==============================] - 0s 298us/sample - loss: 0.3611 - accuracy: 0.8511 - val_loss: 0.3438 - val_accuracy: 0.8994\n",
      "Epoch 96/200\n",
      "712/712 [==============================] - 0s 293us/sample - loss: 0.3574 - accuracy: 0.8581 - val_loss: 0.3447 - val_accuracy: 0.8659\n",
      "Epoch 97/200\n",
      "712/712 [==============================] - 0s 304us/sample - loss: 0.3824 - accuracy: 0.8413 - val_loss: 0.3315 - val_accuracy: 0.8883\n",
      "Epoch 98/200\n",
      "712/712 [==============================] - 0s 366us/sample - loss: 0.3621 - accuracy: 0.8553 - val_loss: 0.3207 - val_accuracy: 0.8994\n",
      "Epoch 99/200\n",
      "712/712 [==============================] - 0s 432us/sample - loss: 0.3510 - accuracy: 0.8539 - val_loss: 0.3310 - val_accuracy: 0.8715\n",
      "Epoch 100/200\n",
      "712/712 [==============================] - 0s 387us/sample - loss: 0.3795 - accuracy: 0.8357 - val_loss: 0.3582 - val_accuracy: 0.8994\n",
      "Epoch 101/200\n",
      "712/712 [==============================] - 0s 304us/sample - loss: 0.3574 - accuracy: 0.8596 - val_loss: 0.3446 - val_accuracy: 0.8994\n",
      "Epoch 102/200\n",
      "712/712 [==============================] - 0s 300us/sample - loss: 0.3524 - accuracy: 0.8511 - val_loss: 0.3722 - val_accuracy: 0.8939\n",
      "Epoch 103/200\n",
      "712/712 [==============================] - 0s 305us/sample - loss: 0.3579 - accuracy: 0.8427 - val_loss: 0.3437 - val_accuracy: 0.9050\n",
      "Epoch 104/200\n",
      "712/712 [==============================] - 0s 301us/sample - loss: 0.3667 - accuracy: 0.8427 - val_loss: 0.3797 - val_accuracy: 0.9050\n",
      "Epoch 105/200\n",
      "712/712 [==============================] - 0s 319us/sample - loss: 0.3566 - accuracy: 0.8455 - val_loss: 0.4904 - val_accuracy: 0.8156\n",
      "Epoch 106/200\n",
      "712/712 [==============================] - 0s 347us/sample - loss: 0.4195 - accuracy: 0.8216 - val_loss: 0.3555 - val_accuracy: 0.8883\n",
      "Epoch 107/200\n",
      "712/712 [==============================] - 0s 352us/sample - loss: 0.3817 - accuracy: 0.8385 - val_loss: 0.3206 - val_accuracy: 0.8939\n",
      "Epoch 108/200\n",
      "712/712 [==============================] - 0s 307us/sample - loss: 0.3615 - accuracy: 0.8385 - val_loss: 0.3152 - val_accuracy: 0.8827\n",
      "Epoch 109/200\n",
      "712/712 [==============================] - 0s 338us/sample - loss: 0.3691 - accuracy: 0.8315 - val_loss: 0.3654 - val_accuracy: 0.8827\n",
      "Epoch 110/200\n",
      "712/712 [==============================] - 0s 415us/sample - loss: 0.3518 - accuracy: 0.8483 - val_loss: 0.3380 - val_accuracy: 0.8994\n",
      "Epoch 111/200\n"
     ]
    },
    {
     "name": "stdout",
     "output_type": "stream",
     "text": [
      "712/712 [==============================] - 0s 321us/sample - loss: 0.3624 - accuracy: 0.8469 - val_loss: 0.3594 - val_accuracy: 0.8771\n",
      "Epoch 112/200\n",
      "712/712 [==============================] - 0s 324us/sample - loss: 0.3676 - accuracy: 0.8455 - val_loss: 0.3541 - val_accuracy: 0.9106\n",
      "Epoch 113/200\n",
      "712/712 [==============================] - 0s 332us/sample - loss: 0.3484 - accuracy: 0.8427 - val_loss: 0.3795 - val_accuracy: 0.8715\n",
      "Epoch 114/200\n",
      "712/712 [==============================] - 0s 317us/sample - loss: 0.3657 - accuracy: 0.8329 - val_loss: 0.3671 - val_accuracy: 0.8547\n",
      "Epoch 115/200\n",
      "712/712 [==============================] - 0s 312us/sample - loss: 0.3705 - accuracy: 0.8272 - val_loss: 0.3277 - val_accuracy: 0.8939\n",
      "Epoch 116/200\n",
      "712/712 [==============================] - 0s 316us/sample - loss: 0.3482 - accuracy: 0.8441 - val_loss: 0.3546 - val_accuracy: 0.8883\n",
      "Epoch 117/200\n",
      "712/712 [==============================] - 0s 299us/sample - loss: 0.3451 - accuracy: 0.8483 - val_loss: 0.3607 - val_accuracy: 0.8994\n",
      "Epoch 118/200\n",
      "712/712 [==============================] - 0s 305us/sample - loss: 0.3525 - accuracy: 0.8525 - val_loss: 0.3511 - val_accuracy: 0.8715\n",
      "Epoch 119/200\n",
      "712/712 [==============================] - 0s 307us/sample - loss: 0.3442 - accuracy: 0.8525 - val_loss: 0.3607 - val_accuracy: 0.8659\n",
      "Epoch 120/200\n",
      "712/712 [==============================] - 0s 301us/sample - loss: 0.3415 - accuracy: 0.8652 - val_loss: 0.3867 - val_accuracy: 0.8994\n",
      "Epoch 121/200\n",
      "712/712 [==============================] - 0s 307us/sample - loss: 0.3450 - accuracy: 0.8553 - val_loss: 0.3935 - val_accuracy: 0.8715\n",
      "Epoch 122/200\n",
      "712/712 [==============================] - 0s 305us/sample - loss: 0.3533 - accuracy: 0.8469 - val_loss: 0.3508 - val_accuracy: 0.8715\n",
      "Epoch 123/200\n",
      "712/712 [==============================] - 0s 303us/sample - loss: 0.3466 - accuracy: 0.8553 - val_loss: 0.3637 - val_accuracy: 0.8939\n",
      "Epoch 124/200\n",
      "712/712 [==============================] - 0s 305us/sample - loss: 0.3555 - accuracy: 0.8399 - val_loss: 0.3524 - val_accuracy: 0.9106\n",
      "Epoch 125/200\n",
      "712/712 [==============================] - 0s 305us/sample - loss: 0.3455 - accuracy: 0.8567 - val_loss: 0.4122 - val_accuracy: 0.8827\n",
      "Epoch 126/200\n",
      "712/712 [==============================] - 0s 307us/sample - loss: 0.3498 - accuracy: 0.8441 - val_loss: 0.3735 - val_accuracy: 0.8883\n",
      "Epoch 127/200\n",
      "712/712 [==============================] - 0s 318us/sample - loss: 0.3367 - accuracy: 0.8553 - val_loss: 0.4157 - val_accuracy: 0.8715\n",
      "Epoch 128/200\n",
      "712/712 [==============================] - 0s 305us/sample - loss: 0.3782 - accuracy: 0.8441 - val_loss: 0.3601 - val_accuracy: 0.8547\n",
      "Epoch 129/200\n",
      "712/712 [==============================] - 0s 328us/sample - loss: 0.4007 - accuracy: 0.8216 - val_loss: 0.3851 - val_accuracy: 0.8771\n",
      "Epoch 130/200\n",
      "712/712 [==============================] - 0s 298us/sample - loss: 0.3581 - accuracy: 0.8455 - val_loss: 0.3910 - val_accuracy: 0.8603\n",
      "Epoch 131/200\n",
      "712/712 [==============================] - 0s 347us/sample - loss: 0.3576 - accuracy: 0.8497 - val_loss: 0.3941 - val_accuracy: 0.8939\n",
      "Epoch 132/200\n",
      "712/712 [==============================] - 0s 389us/sample - loss: 0.3512 - accuracy: 0.8553 - val_loss: 0.3868 - val_accuracy: 0.8939\n",
      "Epoch 133/200\n",
      "712/712 [==============================] - 0s 305us/sample - loss: 0.3457 - accuracy: 0.8553 - val_loss: 0.3977 - val_accuracy: 0.8659\n",
      "Epoch 134/200\n",
      "712/712 [==============================] - 0s 298us/sample - loss: 0.3555 - accuracy: 0.8497 - val_loss: 0.4075 - val_accuracy: 0.8659\n",
      "Epoch 135/200\n",
      "712/712 [==============================] - 0s 303us/sample - loss: 0.3431 - accuracy: 0.8567 - val_loss: 0.3916 - val_accuracy: 0.8883\n",
      "Epoch 136/200\n",
      "712/712 [==============================] - 0s 307us/sample - loss: 0.3727 - accuracy: 0.8301 - val_loss: 0.3707 - val_accuracy: 0.8715\n",
      "Epoch 137/200\n",
      "712/712 [==============================] - 0s 303us/sample - loss: 0.3668 - accuracy: 0.8343 - val_loss: 0.3945 - val_accuracy: 0.8659\n",
      "Epoch 138/200\n",
      "712/712 [==============================] - 0s 305us/sample - loss: 0.3641 - accuracy: 0.8413 - val_loss: 0.3747 - val_accuracy: 0.8771\n",
      "Epoch 139/200\n",
      "712/712 [==============================] - 0s 310us/sample - loss: 0.3393 - accuracy: 0.8539 - val_loss: 0.3782 - val_accuracy: 0.8939\n",
      "Epoch 140/200\n",
      "712/712 [==============================] - 0s 310us/sample - loss: 0.3417 - accuracy: 0.8581 - val_loss: 0.3826 - val_accuracy: 0.8715\n",
      "Epoch 141/200\n",
      "712/712 [==============================] - 0s 300us/sample - loss: 0.3436 - accuracy: 0.8553 - val_loss: 0.4060 - val_accuracy: 0.8827\n",
      "Epoch 142/200\n",
      "712/712 [==============================] - 0s 315us/sample - loss: 0.3334 - accuracy: 0.8596 - val_loss: 0.4204 - val_accuracy: 0.8659\n",
      "Epoch 143/200\n",
      "712/712 [==============================] - 0s 296us/sample - loss: 0.3864 - accuracy: 0.8343 - val_loss: 0.4174 - val_accuracy: 0.8715\n",
      "Epoch 144/200\n",
      "712/712 [==============================] - 0s 300us/sample - loss: 0.3847 - accuracy: 0.8385 - val_loss: 0.4197 - val_accuracy: 0.8715\n",
      "Epoch 145/200\n",
      "712/712 [==============================] - 0s 308us/sample - loss: 0.3700 - accuracy: 0.8497 - val_loss: 0.3791 - val_accuracy: 0.8939\n",
      "Epoch 146/200\n",
      "712/712 [==============================] - 0s 303us/sample - loss: 0.3760 - accuracy: 0.8483 - val_loss: 0.3861 - val_accuracy: 0.8771\n",
      "Epoch 147/200\n",
      "712/712 [==============================] - 0s 327us/sample - loss: 0.3608 - accuracy: 0.8525 - val_loss: 0.3801 - val_accuracy: 0.8994\n",
      "Epoch 148/200\n",
      "712/712 [==============================] - 0s 310us/sample - loss: 0.3511 - accuracy: 0.8539 - val_loss: 0.3895 - val_accuracy: 0.8771\n",
      "Epoch 149/200\n",
      "712/712 [==============================] - 0s 322us/sample - loss: 0.3617 - accuracy: 0.8385 - val_loss: 0.3935 - val_accuracy: 0.8939\n",
      "Epoch 150/200\n",
      "712/712 [==============================] - 0s 296us/sample - loss: 0.3527 - accuracy: 0.8525 - val_loss: 0.4062 - val_accuracy: 0.8715\n",
      "Epoch 151/200\n",
      "712/712 [==============================] - 0s 305us/sample - loss: 0.3625 - accuracy: 0.8441 - val_loss: 0.3976 - val_accuracy: 0.8771\n",
      "Epoch 152/200\n",
      "712/712 [==============================] - 0s 328us/sample - loss: 0.3314 - accuracy: 0.8638 - val_loss: 0.4332 - val_accuracy: 0.8994\n",
      "Epoch 153/200\n",
      "712/712 [==============================] - 0s 319us/sample - loss: 0.3514 - accuracy: 0.8469 - val_loss: 0.4131 - val_accuracy: 0.8827\n",
      "Epoch 154/200\n",
      "712/712 [==============================] - 0s 361us/sample - loss: 0.3399 - accuracy: 0.8483 - val_loss: 0.3929 - val_accuracy: 0.9050\n",
      "Epoch 155/200\n",
      "712/712 [==============================] - 0s 297us/sample - loss: 0.3253 - accuracy: 0.8694 - val_loss: 0.4306 - val_accuracy: 0.8715\n",
      "Epoch 156/200\n",
      "712/712 [==============================] - 0s 300us/sample - loss: 0.3208 - accuracy: 0.8567 - val_loss: 0.4779 - val_accuracy: 0.8883\n",
      "Epoch 157/200\n",
      "712/712 [==============================] - 0s 305us/sample - loss: 0.3270 - accuracy: 0.8624 - val_loss: 0.3596 - val_accuracy: 0.8994\n",
      "Epoch 158/200\n",
      "712/712 [==============================] - 0s 313us/sample - loss: 0.3510 - accuracy: 0.8553 - val_loss: 0.3813 - val_accuracy: 0.9050\n",
      "Epoch 159/200\n",
      "712/712 [==============================] - 0s 296us/sample - loss: 0.3386 - accuracy: 0.8638 - val_loss: 0.4611 - val_accuracy: 0.8994\n",
      "Epoch 160/200\n",
      "712/712 [==============================] - 0s 301us/sample - loss: 0.3433 - accuracy: 0.8469 - val_loss: 0.4211 - val_accuracy: 0.8939\n",
      "Epoch 161/200\n",
      "712/712 [==============================] - 0s 314us/sample - loss: 0.3484 - accuracy: 0.8610 - val_loss: 0.3893 - val_accuracy: 0.9050\n",
      "Epoch 162/200\n",
      "712/712 [==============================] - 0s 297us/sample - loss: 0.3152 - accuracy: 0.8652 - val_loss: 0.4353 - val_accuracy: 0.8994\n",
      "Epoch 163/200\n",
      "712/712 [==============================] - 0s 305us/sample - loss: 0.3360 - accuracy: 0.8680 - val_loss: 0.4522 - val_accuracy: 0.8492\n",
      "Epoch 164/200\n",
      "712/712 [==============================] - 0s 281us/sample - loss: 0.3395 - accuracy: 0.8553 - val_loss: 0.4000 - val_accuracy: 0.8939\n",
      "Epoch 165/200\n",
      "712/712 [==============================] - 0s 296us/sample - loss: 0.3258 - accuracy: 0.8553 - val_loss: 0.3990 - val_accuracy: 0.8939\n",
      "Epoch 166/200\n"
     ]
    },
    {
     "name": "stdout",
     "output_type": "stream",
     "text": [
      "712/712 [==============================] - 0s 318us/sample - loss: 0.3275 - accuracy: 0.8596 - val_loss: 0.4083 - val_accuracy: 0.8883\n",
      "Epoch 167/200\n",
      "712/712 [==============================] - 0s 308us/sample - loss: 0.3161 - accuracy: 0.8666 - val_loss: 0.4032 - val_accuracy: 0.8771\n",
      "Epoch 168/200\n",
      "712/712 [==============================] - 0s 324us/sample - loss: 0.3330 - accuracy: 0.8525 - val_loss: 0.4157 - val_accuracy: 0.8827\n",
      "Epoch 169/200\n",
      "712/712 [==============================] - 0s 372us/sample - loss: 0.3304 - accuracy: 0.8694 - val_loss: 0.4097 - val_accuracy: 0.8771\n",
      "Epoch 170/200\n",
      "712/712 [==============================] - 0s 368us/sample - loss: 0.3620 - accuracy: 0.8301 - val_loss: 0.4490 - val_accuracy: 0.8827\n",
      "Epoch 171/200\n",
      "712/712 [==============================] - 0s 339us/sample - loss: 0.3532 - accuracy: 0.8511 - val_loss: 0.4488 - val_accuracy: 0.8883\n",
      "Epoch 172/200\n",
      "712/712 [==============================] - 0s 300us/sample - loss: 0.3447 - accuracy: 0.8525 - val_loss: 0.4136 - val_accuracy: 0.8939\n",
      "Epoch 173/200\n",
      "712/712 [==============================] - 0s 303us/sample - loss: 0.3251 - accuracy: 0.8666 - val_loss: 0.4372 - val_accuracy: 0.8939\n",
      "Epoch 174/200\n",
      "712/712 [==============================] - 0s 342us/sample - loss: 0.3294 - accuracy: 0.8581 - val_loss: 0.4327 - val_accuracy: 0.8939\n",
      "Epoch 175/200\n",
      "712/712 [==============================] - 0s 349us/sample - loss: 0.3242 - accuracy: 0.8624 - val_loss: 0.4232 - val_accuracy: 0.8827\n",
      "Epoch 176/200\n",
      "712/712 [==============================] - 0s 369us/sample - loss: 0.3240 - accuracy: 0.8750 - val_loss: 0.4650 - val_accuracy: 0.8883\n",
      "Epoch 177/200\n",
      "712/712 [==============================] - 0s 360us/sample - loss: 0.3321 - accuracy: 0.8624 - val_loss: 0.4407 - val_accuracy: 0.8939\n",
      "Epoch 178/200\n",
      "712/712 [==============================] - 0s 315us/sample - loss: 0.3543 - accuracy: 0.8483 - val_loss: 0.4370 - val_accuracy: 0.8883\n",
      "Epoch 179/200\n",
      "712/712 [==============================] - 0s 322us/sample - loss: 0.3387 - accuracy: 0.8497 - val_loss: 0.4395 - val_accuracy: 0.8994\n",
      "Epoch 180/200\n",
      "712/712 [==============================] - 0s 310us/sample - loss: 0.3452 - accuracy: 0.8483 - val_loss: 0.4132 - val_accuracy: 0.8939\n",
      "Epoch 181/200\n",
      "712/712 [==============================] - 0s 298us/sample - loss: 0.3227 - accuracy: 0.8624 - val_loss: 0.4076 - val_accuracy: 0.8939\n",
      "Epoch 182/200\n",
      "712/712 [==============================] - 0s 299us/sample - loss: 0.3284 - accuracy: 0.8624 - val_loss: 0.4505 - val_accuracy: 0.8827\n",
      "Epoch 183/200\n",
      "712/712 [==============================] - 0s 303us/sample - loss: 0.3209 - accuracy: 0.8708 - val_loss: 0.4229 - val_accuracy: 0.8827\n",
      "Epoch 184/200\n",
      "712/712 [==============================] - 0s 311us/sample - loss: 0.3273 - accuracy: 0.8539 - val_loss: 0.4983 - val_accuracy: 0.8827\n",
      "Epoch 185/200\n",
      "712/712 [==============================] - 0s 300us/sample - loss: 0.3196 - accuracy: 0.8624 - val_loss: 0.4627 - val_accuracy: 0.8827\n",
      "Epoch 186/200\n",
      "712/712 [==============================] - 0s 307us/sample - loss: 0.3257 - accuracy: 0.8638 - val_loss: 0.4404 - val_accuracy: 0.8659\n",
      "Epoch 187/200\n",
      "712/712 [==============================] - 0s 307us/sample - loss: 0.3393 - accuracy: 0.8596 - val_loss: 0.4034 - val_accuracy: 0.8715\n",
      "Epoch 188/200\n",
      "712/712 [==============================] - 0s 300us/sample - loss: 0.3195 - accuracy: 0.8652 - val_loss: 0.4527 - val_accuracy: 0.8827\n",
      "Epoch 189/200\n",
      "712/712 [==============================] - 0s 301us/sample - loss: 0.3253 - accuracy: 0.8624 - val_loss: 0.4413 - val_accuracy: 0.8827\n",
      "Epoch 190/200\n",
      "712/712 [==============================] - 0s 304us/sample - loss: 0.3151 - accuracy: 0.8680 - val_loss: 0.4574 - val_accuracy: 0.8771\n",
      "Epoch 191/200\n",
      "712/712 [==============================] - 0s 298us/sample - loss: 0.3109 - accuracy: 0.8736 - val_loss: 0.4617 - val_accuracy: 0.8603\n",
      "Epoch 192/200\n",
      "712/712 [==============================] - 0s 301us/sample - loss: 0.3190 - accuracy: 0.8652 - val_loss: 0.4672 - val_accuracy: 0.8994\n",
      "Epoch 193/200\n",
      "712/712 [==============================] - 0s 335us/sample - loss: 0.3416 - accuracy: 0.8567 - val_loss: 0.4569 - val_accuracy: 0.8939\n",
      "Epoch 194/200\n",
      "712/712 [==============================] - 0s 340us/sample - loss: 0.3018 - accuracy: 0.8834 - val_loss: 0.4513 - val_accuracy: 0.8883\n",
      "Epoch 195/200\n",
      "712/712 [==============================] - 0s 313us/sample - loss: 0.3245 - accuracy: 0.8652 - val_loss: 0.4353 - val_accuracy: 0.9050\n",
      "Epoch 196/200\n",
      "712/712 [==============================] - 0s 312us/sample - loss: 0.3195 - accuracy: 0.8652 - val_loss: 0.4828 - val_accuracy: 0.8771\n",
      "Epoch 197/200\n",
      "712/712 [==============================] - 0s 345us/sample - loss: 0.3103 - accuracy: 0.8624 - val_loss: 0.4529 - val_accuracy: 0.8994\n",
      "Epoch 198/200\n",
      "712/712 [==============================] - 0s 396us/sample - loss: 0.3165 - accuracy: 0.8652 - val_loss: 0.4735 - val_accuracy: 0.8827\n",
      "Epoch 199/200\n",
      "712/712 [==============================] - 0s 350us/sample - loss: 0.3072 - accuracy: 0.8722 - val_loss: 0.5073 - val_accuracy: 0.8827\n",
      "Epoch 200/200\n",
      "712/712 [==============================] - 0s 319us/sample - loss: 0.3081 - accuracy: 0.8792 - val_loss: 0.5095 - val_accuracy: 0.8771\n"
     ]
    }
   ],
   "source": [
    "history = model.fit(X_train, y_train, validation_data=[X_test, y_test], batch_size=5, epochs=2_00)"
   ]
  },
  {
   "cell_type": "code",
   "execution_count": 93,
   "metadata": {},
   "outputs": [
    {
     "name": "stdout",
     "output_type": "stream",
     "text": [
      "highest validation accuracy: 0.910614550113678\n",
      "lowest validation loss: 0.29336122315189694\n",
      "highest accuracy: 0.8834269642829895\n",
      "lowest loss: 0.3018204851777115\n"
     ]
    }
   ],
   "source": [
    "print('highest validation accuracy: {}'.format(max(history.history['val_accuracy'])))\n",
    "print('lowest validation loss: {}'.format(min(history.history['val_loss'])))\n",
    "print('highest accuracy: {}'.format(max(history.history['accuracy'])))\n",
    "print('lowest loss: {}'.format(min(history.history['loss'])))"
   ]
  },
  {
   "cell_type": "code",
   "execution_count": 94,
   "metadata": {},
   "outputs": [
    {
     "data": {
      "text/html": [
       "<div>\n",
       "<style scoped>\n",
       "    .dataframe tbody tr th:only-of-type {\n",
       "        vertical-align: middle;\n",
       "    }\n",
       "\n",
       "    .dataframe tbody tr th {\n",
       "        vertical-align: top;\n",
       "    }\n",
       "\n",
       "    .dataframe thead th {\n",
       "        text-align: right;\n",
       "    }\n",
       "</style>\n",
       "<table border=\"1\" class=\"dataframe\">\n",
       "  <thead>\n",
       "    <tr style=\"text-align: right;\">\n",
       "      <th></th>\n",
       "      <th>loss</th>\n",
       "      <th>accuracy</th>\n",
       "      <th>val_loss</th>\n",
       "      <th>val_accuracy</th>\n",
       "    </tr>\n",
       "  </thead>\n",
       "  <tbody>\n",
       "    <tr>\n",
       "      <th>1</th>\n",
       "      <td>0.601373</td>\n",
       "      <td>0.712079</td>\n",
       "      <td>0.429647</td>\n",
       "      <td>0.826816</td>\n",
       "    </tr>\n",
       "    <tr>\n",
       "      <th>2</th>\n",
       "      <td>0.508308</td>\n",
       "      <td>0.775281</td>\n",
       "      <td>0.396498</td>\n",
       "      <td>0.837989</td>\n",
       "    </tr>\n",
       "    <tr>\n",
       "      <th>3</th>\n",
       "      <td>0.479467</td>\n",
       "      <td>0.793539</td>\n",
       "      <td>0.388675</td>\n",
       "      <td>0.849162</td>\n",
       "    </tr>\n",
       "    <tr>\n",
       "      <th>4</th>\n",
       "      <td>0.474573</td>\n",
       "      <td>0.793539</td>\n",
       "      <td>0.372621</td>\n",
       "      <td>0.849162</td>\n",
       "    </tr>\n",
       "    <tr>\n",
       "      <th>5</th>\n",
       "      <td>0.468765</td>\n",
       "      <td>0.796348</td>\n",
       "      <td>0.374812</td>\n",
       "      <td>0.849162</td>\n",
       "    </tr>\n",
       "  </tbody>\n",
       "</table>\n",
       "</div>"
      ],
      "text/plain": [
       "       loss  accuracy  val_loss  val_accuracy\n",
       "1  0.601373  0.712079  0.429647      0.826816\n",
       "2  0.508308  0.775281  0.396498      0.837989\n",
       "3  0.479467  0.793539  0.388675      0.849162\n",
       "4  0.474573  0.793539  0.372621      0.849162\n",
       "5  0.468765  0.796348  0.374812      0.849162"
      ]
     },
     "execution_count": 94,
     "metadata": {},
     "output_type": "execute_result"
    }
   ],
   "source": [
    "history_df = pd.DataFrame(history.history)\n",
    "history_df.index += 1\n",
    "history_df.head()"
   ]
  },
  {
   "cell_type": "code",
   "execution_count": 95,
   "metadata": {},
   "outputs": [],
   "source": [
    "start = 0\n",
    "stop = history_df.shape[0]"
   ]
  },
  {
   "cell_type": "code",
   "execution_count": 96,
   "metadata": {},
   "outputs": [
    {
     "data": {
      "text/plain": [
       "Text(0, 0.5, 'Loss')"
      ]
     },
     "execution_count": 96,
     "metadata": {},
     "output_type": "execute_result"
    },
    {
     "data": {
      "image/png": "[encoded data removed]",
      "text/plain": [
       "<Figure size 432x288 with 1 Axes>"
      ]
     },
     "metadata": {
      "needs_background": "light"
     },
     "output_type": "display_data"
    }
   ],
   "source": [
    "plt.plot(1+np.arange(start, stop), history_df['val_loss'][start:], c='green')\n",
    "plt.plot(1+np.arange(start, stop), history_df['loss'][start:], c='red')\n",
    "plt.legend(('Validation Loss', 'Train Loss'))\n",
    "plt.title('Loss Per Epoch')\n",
    "plt.xlabel('Epoch (starts at {})'.format(start))\n",
    "plt.ylabel('Loss')"
   ]
  },
  {
   "cell_type": "markdown",
   "metadata": {},
   "source": [
    "This is what we call a typical overfitting pattern"
   ]
  },
  {
   "cell_type": "code",
   "execution_count": 97,
   "metadata": {},
   "outputs": [
    {
     "data": {
      "text/plain": [
       "Text(0, 0.5, 'Accuracy')"
      ]
     },
     "execution_count": 97,
     "metadata": {},
     "output_type": "execute_result"
    },
    {
     "data": {
      "image/png": "[encoded data removed]",
      "text/plain": [
       "<Figure size 432x288 with 1 Axes>"
      ]
     },
     "metadata": {
      "needs_background": "light"
     },
     "output_type": "display_data"
    }
   ],
   "source": [
    "plt.plot(1+np.arange(start, stop), history_df['val_accuracy'][start:], 'green')\n",
    "plt.plot(1+np.arange(start, stop), history_df['accuracy'][start:], c='red')\n",
    "plt.legend(('Validation Accuracy (%)', 'Train Accuracy (%)'))\n",
    "plt.title('Acuracy Per Epoch')\n",
    "plt.xlabel('Epoch (starts at {})'.format(start))\n",
    "plt.ylabel('Accuracy')"
   ]
  },
  {
   "cell_type": "markdown",
   "metadata": {},
   "source": [
    "Once again, the neural network is the most accurate"
   ]
  }
 ],
 "metadata": {
  "kernelspec": {
   "display_name": "Python 3",
   "language": "python",
   "name": "python3"
  },
  "language_info": {
   "codemirror_mode": {
    "name": "ipython",
    "version": 3
   },
   "file_extension": ".py",
   "mimetype": "text/x-python",
   "name": "python",
   "nbconvert_exporter": "python",
   "pygments_lexer": "ipython3",
   "version": "3.6.8"
  }
 },
 "nbformat": 4,
 "nbformat_minor": 2
}
